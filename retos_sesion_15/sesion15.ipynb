{
 "cells": [
  {
   "cell_type": "markdown",
   "metadata": {},
   "source": [
    "# ¿QUÉ ES UN ERROR?\n",
    "Un error es una situación que se produce cuando una instrucción no puede ejecutarse correctamente.\n",
    "\n",
    "En Python, un error puede ser un error de sintaxis o un error de excepción\n",
    "\n",
    "Un error de sintaxis se produce cuando Python no puede interpretar nuestro código\n",
    "\n",
    "Generalmente porque hemos escrito mal alguna parte del código"
   ]
  },
  {
   "cell_type": "code",
   "execution_count": null,
   "metadata": {},
   "outputs": [
    {
     "ename": "",
     "evalue": "",
     "output_type": "error",
     "traceback": [
      "\u001b[1;31mFailed to start the Kernel. \n",
      "\u001b[1;31mUnable to start Kernel 'Python 3.12.2' due to a timeout waiting for the ports to get used. \n",
      "\u001b[1;31mView Jupyter <a href='command:jupyter.viewOutput'>log</a> for further details."
     ]
    }
   ],
   "source": [
    "print(\"Hola Mundo)"
   ]
  },
  {
   "cell_type": "markdown",
   "metadata": {},
   "source": [
    "### ¿QUÉ ES UNA EXCEPCIÓN?\n",
    "Una excepción es un error que ocurre durante la ejecución de un programa\n",
    "\n",
    "Cuando se produce una excepción, el programa se detiene y muestra un mensaje de error\n",
    "\n",
    "La mayoría de las excepciones son ya gestionadas por Python\n",
    "\n",
    "Aveces es necesario gestionar las excepciones nosotros mismos\n",
    "\n",
    "En Python las excepciones se pueden manejar para evitar que el programa se detenga inesperadamente"
   ]
  },
  {
   "cell_type": "markdown",
   "metadata": {},
   "source": [
    "## Visualmente\n",
    "![excepciones](EXCEPCION-W.gif)"
   ]
  },
  {
   "cell_type": "markdown",
   "metadata": {},
   "source": [
    "#### ESTRUCTURA DE UNA EXCEPCIÓN SIMPLE\n",
    "- try: Bloque de código que puede lanzar una excepción posee indentación\n",
    "- except: Bloque de código que se ejecuta si se produce una excepción\n",
    "- Exception as e: Captura la excepción y la almacena en la variable e"
   ]
  },
  {
   "cell_type": "code",
   "execution_count": null,
   "metadata": {},
   "outputs": [],
   "source": [
    "try:\n",
    "    # Código que puede lanzar una excepción\n",
    "except Exception as e:\n",
    "    # Código que se ejecuta si se produce una excepción\n",
    "# Código que se ejecuta siempre fuera del bloque try-except"
   ]
  },
  {
   "cell_type": "markdown",
   "metadata": {},
   "source": [
    "***Ejemplo 1, División por cero***"
   ]
  },
  {
   "cell_type": "code",
   "execution_count": 1,
   "metadata": {},
   "outputs": [
    {
     "name": "stdout",
     "output_type": "stream",
     "text": [
      "Inicio Ejemplo 1\n"
     ]
    },
    {
     "ename": "ZeroDivisionError",
     "evalue": "division by zero",
     "output_type": "error",
     "traceback": [
      "\u001b[1;31m---------------------------------------------------------------------------\u001b[0m",
      "\u001b[1;31mZeroDivisionError\u001b[0m                         Traceback (most recent call last)",
      "Cell \u001b[1;32mIn[1], line 2\u001b[0m\n\u001b[0;32m      1\u001b[0m \u001b[38;5;28mprint\u001b[39m (\u001b[38;5;124m\"\u001b[39m\u001b[38;5;124mInicio Ejemplo 1\u001b[39m\u001b[38;5;124m\"\u001b[39m)\n\u001b[1;32m----> 2\u001b[0m x \u001b[38;5;241m=\u001b[39m \u001b[38;5;241;43m1\u001b[39;49m\u001b[43m \u001b[49m\u001b[38;5;241;43m/\u001b[39;49m\u001b[43m \u001b[49m\u001b[38;5;241;43m0\u001b[39;49m\n\u001b[0;32m      3\u001b[0m \u001b[38;5;28mprint\u001b[39m (x)\n\u001b[0;32m      4\u001b[0m \u001b[38;5;28mprint\u001b[39m (\u001b[38;5;124m\"\u001b[39m\u001b[38;5;124mFin Ejemplo 1\u001b[39m\u001b[38;5;124m\"\u001b[39m)\n",
      "\u001b[1;31mZeroDivisionError\u001b[0m: division by zero"
     ]
    }
   ],
   "source": [
    "print (\"Inicio Ejemplo 1\")\n",
    "x = 1 / 0\n",
    "print (x)\n",
    "print (\"Fin Ejemplo 1\")"
   ]
  },
  {
   "cell_type": "markdown",
   "metadata": {},
   "source": [
    "***Ejemplo 1, División por cero***"
   ]
  },
  {
   "cell_type": "code",
   "execution_count": 2,
   "metadata": {},
   "outputs": [
    {
     "name": "stdout",
     "output_type": "stream",
     "text": [
      "Inicio Ejemplo 1\n",
      "💀 Error: division by zero <class 'ZeroDivisionError'>\n",
      "Fin Ejemplo 1\n"
     ]
    }
   ],
   "source": [
    "print (\"Inicio Ejemplo 1\")\n",
    "try:\n",
    "    x = 1 / 0\n",
    "    print (x)\n",
    "except Exception as e:\n",
    "    print(\"💀 Error:\", e, type(e))\n",
    "print (\"Fin Ejemplo 1\")"
   ]
  },
  {
   "cell_type": "markdown",
   "metadata": {},
   "source": [
    "**Ejercicio 1, Crear un programa que solicite dos números y realice la división de ambos números Si hay un error mostrar un mensaje de error El programa se detiene si se ingresa \"salir\"**"
   ]
  },
  {
   "cell_type": "code",
   "execution_count": 4,
   "metadata": {},
   "outputs": [
    {
     "name": "stdout",
     "output_type": "stream",
     "text": [
      "💀 Error: float division by zero\n",
      "Resultado: 1.6666666666666667\n"
     ]
    }
   ],
   "source": [
    "while True:\n",
    "    try:\n",
    "        num1 = input(\"Ingrese el primer número: \")\n",
    "        if num1 == \"salir\":\n",
    "            break\n",
    "        num2 = input(\"Ingrese el segundo número: \")\n",
    "        if num2 == \"salir\":\n",
    "            break\n",
    "        num1 = float(num1)\n",
    "        num2 = float(num2)\n",
    "        print(\"Resultado:\", num1 / num2)\n",
    "    except Exception as e:\n",
    "        print(\"💀 Error:\", e)"
   ]
  },
  {
   "cell_type": "markdown",
   "metadata": {},
   "source": [
    "#### IPOS DE EXCEPCIONES\n",
    "Algunos tipos de excepciones son:\n",
    "\n",
    "- ZeroDivisionError: Se produce cuando se intenta dividir por cero\n",
    "- NameError: Se produce cuando no se encuentra una variable\n",
    "- TypeError: Se produce cuando se intenta realizar una operación no permitida\n",
    "- ValueError: Se produce cuando se intenta realizar una operación con un valor incorrecto\n",
    "- KeyError: Se produce cuando se intenta acceder a una clave que no existe en un diccionario\n",
    "- IndexError: Se produce cuando se intenta acceder a un índice que no existe en una lista"
   ]
  },
  {
   "cell_type": "markdown",
   "metadata": {},
   "source": [
    "#### EXCEPCIONES MÚLTIPLES\n",
    "try puede detectar un tipo de excepción específico y ejecutar un bloque de código diferente para cada tipo de excepción\n",
    "\n",
    "Se debe poner un bloque except el tipo de excepción que se desea capturar con jerarquía de arriba hacía abajo"
   ]
  },
  {
   "cell_type": "code",
   "execution_count": null,
   "metadata": {},
   "outputs": [],
   "source": [
    "try:\n",
    "    # Código que puede lanzar una excepción\n",
    "except ZeroDivisionError as e:\n",
    "    # Código si se produce una excepción de división por cero\n",
    "except Exception as e:\n",
    "    # Código si se produce una excepción genérica"
   ]
  },
  {
   "cell_type": "markdown",
   "metadata": {},
   "source": [
    "***Ejemplo 2, División por cero***"
   ]
  },
  {
   "cell_type": "code",
   "execution_count": 5,
   "metadata": {},
   "outputs": [
    {
     "name": "stdout",
     "output_type": "stream",
     "text": [
      "Inicio Ejemplo 2\n",
      "0️⃣ Error: division by zero <class 'ZeroDivisionError'>\n",
      "Fin Ejemplo 2\n"
     ]
    }
   ],
   "source": [
    "print (\"Inicio Ejemplo 2\")\n",
    "divisor = 0\n",
    "try:\n",
    "    x = 1 / divisor\n",
    "    print (x)\n",
    "except ZeroDivisionError as e:\n",
    "    print(\"0️⃣ Error:\", e, type(e))\n",
    "except Exception as e:\n",
    "    print(\"💀 Error:\", e, type(e))\n",
    "print (\"Fin Ejemplo 2\")"
   ]
  },
  {
   "cell_type": "markdown",
   "metadata": {},
   "source": [
    "***Ejemplo 2, División por cero***"
   ]
  },
  {
   "cell_type": "code",
   "execution_count": 6,
   "metadata": {},
   "outputs": [
    {
     "name": "stdout",
     "output_type": "stream",
     "text": [
      "Inicio Ejemplo 2\n",
      "💀 Error: unsupported operand type(s) for /: 'int' and 'str' <class 'TypeError'>\n",
      "Fin Ejemplo 2\n"
     ]
    }
   ],
   "source": [
    "print (\"Inicio Ejemplo 2\")\n",
    "divisor = \"0\"\n",
    "try:\n",
    "    x = 1 / divisor\n",
    "    print (x)\n",
    "except ZeroDivisionError as e:\n",
    "    print(\"0️⃣ Error:\", e, type(e))\n",
    "except Exception as e:\n",
    "    print(\"💀 Error:\", e, type(e))\n",
    "print (\"Fin Ejemplo 2\")"
   ]
  },
  {
   "cell_type": "markdown",
   "metadata": {},
   "source": [
    "***Jerarquía de excepciones***\n",
    "\n",
    "***Ejemplo 2, División por cero***"
   ]
  },
  {
   "cell_type": "code",
   "execution_count": 7,
   "metadata": {},
   "outputs": [
    {
     "name": "stdout",
     "output_type": "stream",
     "text": [
      "Inicio Ejemplo 2\n",
      "💀 Error: division by zero <class 'ZeroDivisionError'>\n",
      "Fin Ejemplo 2\n"
     ]
    }
   ],
   "source": [
    "print (\"Inicio Ejemplo 2\")\n",
    "divisor = 0\n",
    "try:\n",
    "    x = 1 / divisor\n",
    "    print (x)\n",
    "except Exception as e: # Captura cualquier excepción\n",
    "    print(\"💀 Error:\", e, type(e))\n",
    "except ZeroDivisionError as e:\n",
    "    print(\"0️⃣ Error:\", e, type(e))\n",
    "print (\"Fin Ejemplo 2\")"
   ]
  },
  {
   "cell_type": "markdown",
   "metadata": {},
   "source": [
    "***Ejemplo 3, De la lista de calificaciones obtener el promedio***"
   ]
  },
  {
   "cell_type": "code",
   "execution_count": 8,
   "metadata": {},
   "outputs": [
    {
     "name": "stdout",
     "output_type": "stream",
     "text": [
      "🎭 Error: unsupported operand type(s) for +=: 'int' and 'str' <class 'TypeError'>\n"
     ]
    }
   ],
   "source": [
    "calificaciones = [20,40,80,\"A\"]\n",
    "suma = 0\n",
    "try:\n",
    "    for i in range(len(calificaciones)+1):\n",
    "        suma += calificaciones[i] \n",
    "    promedio = suma / len(calificaciones)\n",
    "    print(\"Promedio:\", promedio)\n",
    "except ZeroDivisionError as e:\n",
    "    print(\"0️⃣ Error:\", e, type(e))\n",
    "except TypeError as e:\n",
    "    print(\"🎭 Error:\", e, type(e))\n",
    "except Exception as e:\n",
    "    print(\"💀 Error:\", e, type(e))"
   ]
  },
  {
   "cell_type": "markdown",
   "metadata": {},
   "source": [
    "***Ejemplo 3, De la lista de calificaciones obtener el promedio***"
   ]
  },
  {
   "cell_type": "code",
   "execution_count": 9,
   "metadata": {},
   "outputs": [
    {
     "name": "stdout",
     "output_type": "stream",
     "text": [
      "💀 Error: list index out of range <class 'IndexError'>\n"
     ]
    }
   ],
   "source": [
    "calificaciones = [20,40,80]\n",
    "suma = 0\n",
    "try:\n",
    "    for i in range(len(calificaciones)+1):\n",
    "        suma += calificaciones[i]\n",
    "    promedio = suma / len(calificaciones)\n",
    "    print(\"Promedio:\", promedio)\n",
    "except ZeroDivisionError as e:\n",
    "    print(\"0️⃣ Error:\", e, type(e))\n",
    "except TypeError as e:\n",
    "    print(\"🎭 Error:\", e, type(e))\n",
    "except Exception as e: # Captura cualquier excepción\n",
    "    print(\"💀 Error:\", e, type(e))"
   ]
  },
  {
   "cell_type": "markdown",
   "metadata": {},
   "source": [
    "***Ejemplo 3, De la lista de calificaciones obtener el promedio***"
   ]
  },
  {
   "cell_type": "code",
   "execution_count": 10,
   "metadata": {},
   "outputs": [
    {
     "name": "stdout",
     "output_type": "stream",
     "text": [
      "Promedio: 46.666666666666664\n"
     ]
    }
   ],
   "source": [
    "calificaciones = [20,40,80]\n",
    "suma = 0\n",
    "try:\n",
    "    for i in range(len(calificaciones)):\n",
    "        suma += calificaciones[i] # suma = suma + calificaciones[i]\n",
    "    promedio = suma / len(calificaciones)\n",
    "    print(\"Promedio:\", promedio)\n",
    "except ZeroDivisionError as e:\n",
    "    print(\"0️⃣ Error:\", e, type(e))\n",
    "except TypeError as e:\n",
    "    print(\"🎭 Error:\", e, type(e))\n",
    "except Exception as e:\n",
    "    print(\"💀 Error:\", e, type(e))"
   ]
  },
  {
   "cell_type": "markdown",
   "metadata": {},
   "source": [
    "### BLOQUE else\n",
    "Se puede agregar un bloque else que se ejecuta si no se produce ninguna excepción\n",
    "\n",
    "Se debe poner después de todos los bloques except\n",
    "\n",
    "Lo utilizamos validar la entrada de datos o para mostrar un mensaje de éxito"
   ]
  },
  {
   "cell_type": "markdown",
   "metadata": {},
   "source": [
    "***Estructura de un bloque else***"
   ]
  },
  {
   "cell_type": "code",
   "execution_count": null,
   "metadata": {},
   "outputs": [],
   "source": [
    "try:\n",
    "    # Código que puede lanzar una excepción\n",
    "except Exception as e:\n",
    "    # Código si se produce una excepción\n",
    "else:\n",
    "    # Código si no se produce ninguna excepción"
   ]
  },
  {
   "cell_type": "markdown",
   "metadata": {},
   "source": [
    "***Ejemplo 4, De la lista de calificaciones obtener el promedio***"
   ]
  },
  {
   "cell_type": "code",
   "execution_count": 11,
   "metadata": {},
   "outputs": [
    {
     "name": "stdout",
     "output_type": "stream",
     "text": [
      "Inicio Ejemplo 4\n",
      "Promedio: 46.666666666666664\n",
      "🎉 Sin errores\n",
      "Fin Ejemplo 4\n"
     ]
    }
   ],
   "source": [
    "print (\"Inicio Ejemplo 4\")\n",
    "calificaciones = [20,40,80]\n",
    "suma = 0\n",
    "try:\n",
    "    for i in range(len(calificaciones)):\n",
    "        suma += calificaciones[i]\n",
    "    promedio = suma / len(calificaciones)\n",
    "    print(\"Promedio:\", promedio)\n",
    "except Exception as e:\n",
    "    print(\"💀 Error:\", e, type(e))\n",
    "else:\n",
    "    print (\"🎉 Sin errores\")\n",
    "print (\"Fin Ejemplo 4\")"
   ]
  },
  {
   "cell_type": "markdown",
   "metadata": {},
   "source": [
    "***Ejercicio 2***\n",
    "- Crear un programa que solicite dos números y mediante una función devuelva la división de ambos\n",
    "- Si hay un error mostrar un mensaje de error. El programa se detiene si se ingresa \"salir\"\n",
    "- Añadir un bloque else que muestre el resultado de la función"
   ]
  },
  {
   "cell_type": "code",
   "execution_count": 13,
   "metadata": {},
   "outputs": [
    {
     "name": "stdout",
     "output_type": "stream",
     "text": [
      "🎉 Resultado:  1.0\n",
      "🎉 Resultado:  18.666666666666668\n"
     ]
    }
   ],
   "source": [
    "def division(num1, num2):\n",
    "    return num1 / num2\n",
    "\n",
    "while True:\n",
    "    try:\n",
    "        num1 = input(\"Ingrese el primer número: \")\n",
    "        if num1 == \"salir\":\n",
    "            break\n",
    "        num2 = input(\"Ingrese el segundo número: \")\n",
    "        if num2 == \"salir\":\n",
    "            break\n",
    "        num1 = float(num1)\n",
    "        num2 = float(num2)\n",
    "        resultado = division(num1, num2)\n",
    "    except Exception as e:\n",
    "        print(\"💀 Error:\", e)\n",
    "    else:\n",
    "        print(\"🎉 Resultado: \",resultado)"
   ]
  },
  {
   "cell_type": "markdown",
   "metadata": {},
   "source": [
    "### BLOQUE finally\n",
    "Se puede agregar un bloque finally que se ejecuta siempre, independientemente de si se produce una excepción\n",
    "\n",
    "Se debe poner después de todos los bloques except y else\n",
    "\n",
    "Se utiliza para liberar recursos o cerrar archivos\n",
    "\n",
    "Para garantizar que se ejecute un código importante sin importar si se produce una excepción o no"
   ]
  },
  {
   "cell_type": "markdown",
   "metadata": {},
   "source": [
    "***Estructura de un bloque finally***"
   ]
  },
  {
   "cell_type": "code",
   "execution_count": null,
   "metadata": {},
   "outputs": [],
   "source": [
    "try:\n",
    "    # Código que puede lanzar una excepción\n",
    "except Exception as e:\n",
    "    # Código si se produce una excepción\n",
    "else:\n",
    "    # Código si no se produce ninguna excepción\n",
    "finally:\n",
    "    # Código que se ejecuta siempre"
   ]
  },
  {
   "cell_type": "markdown",
   "metadata": {},
   "source": [
    "***Ejemplo 5, Simula una conexión a internet que haga ping y cerrar la conexión***"
   ]
  },
  {
   "cell_type": "code",
   "execution_count": 14,
   "metadata": {},
   "outputs": [
    {
     "name": "stdout",
     "output_type": "stream",
     "text": [
      "Inicio Ejemplo 5\n",
      "🔗 Ping...\n",
      "🎉 Ping Exitoso\n",
      "🔌 Cerrando conexión\n"
     ]
    }
   ],
   "source": [
    "print (\"Inicio Ejemplo 5\")\n",
    "try:\n",
    "    print(\"🔗 Ping...\")\n",
    "except Exception as e:\n",
    "    print(\"💀 Error:\", e)\n",
    "else:\n",
    "    print(\"🎉 Ping Exitoso\")\n",
    "finally:\n",
    "    print(\"🔌 Cerrando conexión\")"
   ]
  },
  {
   "cell_type": "markdown",
   "metadata": {},
   "source": [
    "### RAISE\n",
    "raise se utiliza para generar una excepción\n",
    "\n",
    "Se puede generar una excepción específica o una excepción genérica\n",
    "\n",
    "#### Estructura de raise\n",
    "\n",
    "***raise Exception(\"Mensaje de error\")***\n",
    "\n",
    "- raise es una palabra reservada de Python\n",
    "- Exception es el tipo de excepción que se desea generar\n",
    "- \"Mensaje de error\" es el mensaje que se mostrará"
   ]
  },
  {
   "cell_type": "markdown",
   "metadata": {},
   "source": [
    "***Ejemplo 6, Simula una conexión a internet que haga ping y cerrar la conexión***"
   ]
  },
  {
   "cell_type": "code",
   "execution_count": 16,
   "metadata": {},
   "outputs": [
    {
     "name": "stdout",
     "output_type": "stream",
     "text": [
      "Inicio Ejemplo 6\n",
      "🔗 Ping...\n",
      "💀 Error: Error de conexión\n",
      "🔌 Cerrando conexión\n"
     ]
    }
   ],
   "source": [
    "print (\"Inicio Ejemplo 6\")\n",
    "try:\n",
    "    print(\"🔗 Ping...\")\n",
    "    raise Exception(\"Error de conexión\") #Excepción genérica\n",
    "except Exception as e: # Captura cualquier excepción\n",
    "    print(\"💀 Error:\", e)\n",
    "else:\n",
    "    print(\"🎉 Ping Exitoso\")\n",
    "finally:\n",
    "    print(\"🔌 Cerrando conexión\")"
   ]
  },
  {
   "cell_type": "markdown",
   "metadata": {},
   "source": [
    "***Ejercicio 3***\n",
    "- Escriba un programa que solicite un número por teclado y se almacene en una lista\n",
    "- Si es 0 se genera una excepción\n",
    "- Si la ejecución es correcta muestra \"🎉Agregado\"\n",
    "- Termina la ejecución sólo con la palabra \"salir\" utilizar la excepción KeyboardInterrupt\n",
    "-  Finalmente imprima siempre la suma de los números y la lista"
   ]
  },
  {
   "cell_type": "code",
   "execution_count": 17,
   "metadata": {},
   "outputs": [
    {
     "name": "stdout",
     "output_type": "stream",
     "text": [
      "🎉 Número agregado\n",
      "Suma: 25.0\n",
      "🎉 Número agregado\n",
      "Suma: 72.0\n",
      "🎉 Número agregado\n",
      "Suma: 73.0\n",
      "🎉 Número agregado\n",
      "Suma: 75.0\n",
      "🎉 Número agregado\n",
      "Suma: 80.0\n",
      "💀 Error: No se puede agregar el número 0\n",
      "Suma: 80.0\n",
      "Suma: 80.0\n"
     ]
    }
   ],
   "source": [
    "numeros = []\n",
    "while True:\n",
    "    try:\n",
    "        num = input(\"Ingrese un número: \")\n",
    "        if num == \"salir\":\n",
    "            break\n",
    "        num = float(num)\n",
    "        if num == 0:\n",
    "            raise Exception(\"No se puede agregar el número 0\")\n",
    "        numeros.append(num)\n",
    "    except KeyboardInterrupt as e:\n",
    "        print('🚫 Para salir escriba \"salir\"')\n",
    "    except Exception as e:\n",
    "        print(\"💀 Error:\", e)\n",
    "    else:\n",
    "        print(\"🎉 Número agregado\")\n",
    "    finally:\n",
    "        print(\"Suma:\", sum(numeros))"
   ]
  },
  {
   "cell_type": "markdown",
   "metadata": {},
   "source": [
    "#### PASS\n",
    "pass es una palabra reservada de Python que no hace nada\n",
    "\n",
    "Se utiliza para evitar errores de sintaxis\n",
    "\n",
    "Se puede utilizar para evitar errores de indentación"
   ]
  },
  {
   "cell_type": "markdown",
   "metadata": {},
   "source": [
    "***Ejemplo 7, Crea una función que no hace nada***"
   ]
  },
  {
   "cell_type": "code",
   "execution_count": 18,
   "metadata": {},
   "outputs": [
    {
     "name": "stdout",
     "output_type": "stream",
     "text": [
      "Inicio Ejemplo 7\n",
      "Fin Ejemplo 7\n"
     ]
    }
   ],
   "source": [
    "print(\"Inicio Ejemplo 7\")\n",
    "def funcion():\n",
    "    pass\n",
    "\n",
    "funcion()\n",
    "print(\"Fin Ejemplo 7\")"
   ]
  },
  {
   "cell_type": "markdown",
   "metadata": {},
   "source": [
    "#### EXCEPCIONES PERSONALIZADAS\n",
    "Se pueden crear excepciones personalizadas\n",
    "\n",
    "Nos permite crear excepciones específicas para nuestro programa\n",
    "\n",
    "Se utiliza para crear excepciones de acuerdo a las necesidades del programa"
   ]
  },
  {
   "cell_type": "markdown",
   "metadata": {},
   "source": [
    "**Estructura de una excepción personalizada**\n",
    "- class: palabra reservada de Python para crear una clase\n",
    "- MiError (Exception): nombre de la clase y la excepción de la que hereda\n",
    "- pass: palabra reservada de Python para indicar que no hace nada"
   ]
  },
  {
   "cell_type": "code",
   "execution_count": null,
   "metadata": {},
   "outputs": [],
   "source": [
    "class MiError(Exception):\n",
    "    pass\n",
    "\n",
    "raise MiError(\"Mensaje de error\")"
   ]
  },
  {
   "cell_type": "markdown",
   "metadata": {},
   "source": [
    "***Ejemplo 8, Tienes un frutero, saca las frutas mientras no sea un gusano y genera una excepción***"
   ]
  },
  {
   "cell_type": "code",
   "execution_count": 20,
   "metadata": {},
   "outputs": [
    {
     "name": "stdout",
     "output_type": "stream",
     "text": [
      "Inicio Ejemplo 8\n",
      "🍎\n",
      "🍌\n",
      "🍐\n",
      "🐛 Error: 😱 Ewww!\n",
      "🍇\n",
      "Fin Ejemplo 8\n"
     ]
    }
   ],
   "source": [
    "print(\"Inicio Ejemplo 8\")\n",
    "class GusanoError(Exception):\n",
    "    pass\n",
    " \n",
    "frutero = ['🍎', '🍌', '🍐', '🐛', '🍇']\n",
    "for fruta in frutero:\n",
    "    try:\n",
    "        if fruta == '🐛':\n",
    "            raise GusanoError(\"😱 Ewww!\")\n",
    "        print(fruta)\n",
    "    except GusanoError as e:\n",
    "        print(\"🐛 Error:\", e)\n",
    "    except Exception as e:\n",
    "        print(\"💀 Error:\", e)\n",
    "print(\"Fin Ejemplo 8\")"
   ]
  },
  {
   "cell_type": "markdown",
   "metadata": {},
   "source": [
    "***Ejercicio 4***\n",
    "- Crear un programa que solicite palabras por teclado y almacene en una lista\n",
    "- Si se inserta caracteres no alfabéticos se genera una excepción personalizada y no se almacena\n",
    "- Si se ingresa \"salir\" se termina la ejecución\n",
    "- Mostrar el mensaje \"🎉 Palabra agregada\" si no hay errores\n",
    "- Finalmente imprimir la lista de palabras"
   ]
  },
  {
   "cell_type": "code",
   "execution_count": 21,
   "metadata": {},
   "outputs": [
    {
     "name": "stdout",
     "output_type": "stream",
     "text": [
      "🚫 Error: Solo se permiten letras\n",
      "Lista: []\n",
      "🚫 Error: Solo se permiten letras\n",
      "Lista: []\n",
      "🚫 Error: Solo se permiten letras\n",
      "Lista: []\n",
      "🎉 Palabra agregada\n",
      "Lista: ['g']\n",
      "🎉 Palabra agregada\n",
      "Lista: ['g', 'farnear']\n",
      "🎉 Palabra agregada\n",
      "Lista: ['g', 'farnear', 'escribir']\n",
      "Lista: ['g', 'farnear', 'escribir']\n"
     ]
    }
   ],
   "source": [
    "class NoAlfabeticoError(Exception):\n",
    "    pass\n",
    "\n",
    "palabras = []\n",
    "while True:\n",
    "    try:\n",
    "        palabra = input(\"Ingrese una palabra: \")\n",
    "        if palabra == \"salir\":\n",
    "            break\n",
    "        if not palabra.isalpha():\n",
    "            raise NoAlfabeticoError(\"Solo se permiten letras\")\n",
    "        palabras.append(palabra)\n",
    "    except NoAlfabeticoError as e:\n",
    "        print(\"🚫 Error:\", e)\n",
    "    except Exception as e:\n",
    "        print(\"💀 Error:\", e)\n",
    "    else:\n",
    "        print(\"🎉 Palabra agregada\")\n",
    "    finally:\n",
    "        print(\"Lista:\", palabras)"
   ]
  },
  {
   "cell_type": "markdown",
   "metadata": {},
   "source": [
    "# ***......El Fin de Todas las Cosas.......***\n",
    "\n",
    "![comida1](hamburguesaVSrefresco.jpg)\n",
    "\n",
    "![comida2](verduraVScom_prcesada.jpg)"
   ]
  }
 ],
 "metadata": {
  "kernelspec": {
   "display_name": "Python 3",
   "language": "python",
   "name": "python3"
  },
  "language_info": {
   "codemirror_mode": {
    "name": "ipython",
    "version": 3
   },
   "file_extension": ".py",
   "mimetype": "text/x-python",
   "name": "python",
   "nbconvert_exporter": "python",
   "pygments_lexer": "ipython3",
   "version": "3.12.2"
  }
 },
 "nbformat": 4,
 "nbformat_minor": 2
}
