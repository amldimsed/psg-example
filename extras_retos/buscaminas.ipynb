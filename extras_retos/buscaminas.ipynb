{
 "cells": [
  {
   "cell_type": "markdown",
   "metadata": {},
   "source": [
    "### Función max, min: Función auxiliar que calcula el máximo y minimo de dos números"
   ]
  },
  {
   "cell_type": "code",
   "execution_count": 1,
   "metadata": {},
   "outputs": [],
   "source": [
    "def max(num1: int, num2: int) -> int:\n",
    "    return num1 if num1 > num2 else num2\n",
    "\n",
    "def min(num1: int, num2: int) -> int:\n",
    "    return num1 if num1 < num2 else num2\n"
   ]
  },
  {
   "cell_type": "markdown",
   "metadata": {},
   "source": [
    "- Función IncializarTablero: Función que recibe las dos talbas: tablero, visible\n",
    "- Incializa tablero con valores 0\n",
    "- Incializa visible con valores Falso, indicando que están ocultas"
   ]
  },
  {
   "cell_type": "code",
   "execution_count": 2,
   "metadata": {},
   "outputs": [
    {
     "name": "stdout",
     "output_type": "stream",
     "text": [
      "[[False, False, False, False, False], [False, False, False, False, False], [False, False, False, False, False], [False, False, False, False, False], [False, False, False, False, False]]\n"
     ]
    }
   ],
   "source": [
    "\"\"\"\n",
    "Funcion InicializarTablero(tablero Por Referencia,visible Por Referencia)\n",
    "\tDefinir fila,colum como Entero;\n",
    "\t//Incializo el tablero con valor 0\n",
    "\tPara fila<-0 hasta 9 Hacer\n",
    "\t\tPara colum<-0 hasta 9 Hacer\n",
    "\t\t\ttablero[fila,colum]<-0;\n",
    "\t\tFinPara\n",
    "\tFinPara\n",
    "\tPonerMinas(tablero);\n",
    "\t//Incializo la tabla visible a falso indicando que ninguna celda está descubierta\n",
    "\tPara fila<-0 hasta 9 Hacer\n",
    "\t\tPara colum<-0 hasta 9 Hacer\n",
    "\t\t\tvisible[fila,colum]<-Falso;\n",
    "\t\tFinPara\n",
    "\tFinPara\n",
    "\t\n",
    "FinFuncion\n",
    "\"\"\"\n",
    "def InicializarTablero(tam:int, tab: list = [], vis: list = []):\n",
    "    #for i in range(tam):\n",
    "        #for j in range(tam):\n",
    "            #tablero[i][j] = 0\n",
    "    tab = [[0 for j in range(tam)] for i in range(tam)]\n",
    "    vis = [[False for j in range(tam)] for i in range(tam)]\n",
    "    ponerminas(tablero)\n",
    "    return vis, tab, tam\n",
    "    \n",
    "tamanio:int = 5    \n",
    "tabla = int()\n",
    "valor = bool()\n",
    "tabla = [[int() for ind0 in range(tamanio)] for ind1 in range(tamanio)]\n",
    "valor = [[bool() for ind0 in range(tamanio)] for ind1 in range(tamanio)]\n",
    "valor, tabla, t = InicializarTablero(tamanio, tabla, valor)\n",
    "\n",
    "print(valor)\n"
   ]
  }
 ],
 "metadata": {
  "kernelspec": {
   "display_name": "Python 3",
   "language": "python",
   "name": "python3"
  },
  "language_info": {
   "codemirror_mode": {
    "name": "ipython",
    "version": 3
   },
   "file_extension": ".py",
   "mimetype": "text/x-python",
   "name": "python",
   "nbconvert_exporter": "python",
   "pygments_lexer": "ipython3",
   "version": "undefined.undefined.undefined"
  }
 },
 "nbformat": 4,
 "nbformat_minor": 2
}
