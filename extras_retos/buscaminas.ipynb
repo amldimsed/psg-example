{
 "cells": [
  {
   "cell_type": "markdown",
   "metadata": {},
   "source": [
    "### Función max, min: Función auxiliar que calcula el máximo y minimo de dos números"
   ]
  },
  {
   "cell_type": "code",
   "execution_count": 49,
   "metadata": {},
   "outputs": [],
   "source": [
    "def max(num1: int, num2: int) -> int:\n",
    "    return num1 if num1 > num2 else num2\n",
    "\n",
    "def min(num1: int, num2: int) -> int:\n",
    "    return num1 if num1 < num2 else num2\n"
   ]
  },
  {
   "cell_type": "markdown",
   "metadata": {},
   "source": [
    "- Funcion PonerMinas: Funcion que recibe el tablero (tabla 10x10) por referencia\n",
    "- Genera 10 posiciones de la tabla e incializa esas posiciones con minas (valor 9)\n",
    "- Debe asegurar que se ponen 10 minas.\n",
    "- Cada vez que se pone una mina se incrementa en 1 el valor de las celdas vecinas,\n",
    "- si no son una mina"
   ]
  },
  {
   "cell_type": "code",
   "execution_count": 56,
   "metadata": {},
   "outputs": [],
   "source": [
    "from random import randint\n",
    "def poner_minas(tablero:list, tam:int):\n",
    "\tnum_minas = int()\n",
    "\tfila = int()\n",
    "\tcolum = int()\n",
    "\tfila2 = int()\n",
    "\tcolum2 = int()\n",
    "\tnum_minas = 0\n",
    "\n",
    "\t# Vamos a poner 10 minas en el tablero\n",
    "\twhile num_minas<tam:\n",
    "\t\t# Me aseguro que no haya ya una mina en la posicion que se genera aleatoriamente\n",
    "\t\twhile True:# no hay 'repetir' en python\n",
    "\t\t\tfila = randint(0,tam-1)\n",
    "\t\t\tcolum = randint(0,tam-1)\n",
    "\t\t\tif tablero[fila][colum]!=tam-1: break\n",
    "\t\t# Reperesentamos la mina con el numero 9\n",
    "\t\ttablero[fila][colum] = tam-1\n",
    "\t\t# Ahora incremento el numero de minas cercanas en las casillas vecinas\n",
    "\t\tfor fila2 in range(max(0, fila-1),min(tam-1, fila+1)+1):\n",
    "\t\t\tfor colum2 in range(max(0, colum-1),min(tam-1, colum+1)+1):\n",
    "\t\t\t\tif tablero[fila2-1][colum2-1]!=tam-1:\n",
    "\t\t\t\t\ttablero[fila2-1][colum2-1] = tablero[fila2-1][colum2-1]+1\n",
    "\t\tnum_minas = num_minas+1\n",
    "\tfor x in range(0,10): \n",
    "\t\tfor k in range(0,10):\n",
    "\t\t\tprint(tablero[x][k], end=\"  \")\t\t\n",
    "\t\tprint(\"\\n\")\n",
    "\treturn tablero\n"
   ]
  },
  {
   "cell_type": "markdown",
   "metadata": {},
   "source": [
    "- Función IncializarTablero: Función que recibe las dos talbas: tablero, visible\n",
    "- Incializa tablero con valores 0\n",
    "- Incializa visible con valores Falso, indicando que están ocultas"
   ]
  },
  {
   "cell_type": "code",
   "execution_count": 43,
   "metadata": {},
   "outputs": [],
   "source": [
    "\"\"\"\n",
    "Funcion InicializarTablero(tablero Por Referencia,visible Por Referencia)\n",
    "\tDefinir fila,colum como Entero;\n",
    "\t//Incializo el tablero con valor 0\n",
    "\tPara fila<-0 hasta 9 Hacer\n",
    "\t\tPara colum<-0 hasta 9 Hacer\n",
    "\t\t\ttablero[fila,colum]<-0;\n",
    "\t\tFinPara\n",
    "\tFinPara\n",
    "\tPonerMinas(tablero);\n",
    "\t//Incializo la tabla visible a falso indicando que ninguna celda está descubierta\n",
    "\tPara fila<-0 hasta 9 Hacer\n",
    "\t\tPara colum<-0 hasta 9 Hacer\n",
    "\t\t\tvisible[fila,colum]<-Falso;\n",
    "\t\tFinPara\n",
    "\tFinPara\n",
    "\t\n",
    "FinFuncion\n",
    "\"\"\"\n",
    "def InicializarTablero(tam:int, tab:list, vis: list ):\n",
    "    #for i in range(tam):\n",
    "        #for j in range(tam):\n",
    "            #tablero[i][j] = 0\n",
    "    #global tabla \n",
    "    #global valor\n",
    "    #global tamanio\n",
    "    \n",
    "    tab = [[0 for j in range(tam)] for i in range(tam)]\n",
    "    vis = [[False for j in range(tam)] for i in range(tam)]\n",
    "    tab = poner_minas(tab, tam)\n",
    "    return vis, tab, tam"
   ]
  },
  {
   "cell_type": "markdown",
   "metadata": {},
   "source": [
    "- Programa BuscaMina\n",
    "- Incilizo las tablas: tablero y visible\n",
    "- Se repite:\n",
    "- Mostrar el tablero\n",
    "- Pedir fila y columna de casilla a destapar\n",
    "- Comprobar tablero\n",
    "- Hasta que la comprobacion = -1 (has perdido hay una mina)\n",
    "- O hasta que haya destapada todas las casillas (Has ganado)"
   ]
  },
  {
   "cell_type": "code",
   "execution_count": 60,
   "metadata": {},
   "outputs": [
    {
     "name": "stdout",
     "output_type": "stream",
     "text": [
      "0  1  1  1  0  0  0  1  1  0  \n",
      "\n",
      "0  2  3  9  1  0  0  1  1  9  \n",
      "\n",
      "0  1  3  3  2  0  0  0  0  0  \n",
      "\n",
      "1  2  3  9  9  0  0  0  0  1  \n",
      "\n",
      "1  1  2  2  9  1  2  2  1  1  \n",
      "\n",
      "1  9  1  1  1  1  2  2  1  1  \n",
      "\n",
      "0  0  1  1  9  1  2  9  9  0  \n",
      "\n",
      "0  0  0  0  0  0  0  1  1  0  \n",
      "\n",
      "0  0  0  0  0  0  0  1  1  0  \n",
      "\n",
      "0  1  1  1  0  0  0  1  1  9  \n",
      "\n"
     ]
    }
   ],
   "source": [
    "tamanio:int = 10    \n",
    "tabla:list = int()\n",
    "valor:list = bool()\n",
    "#tabla = [[int() for ind0 in range(tamanio)] for ind1 in range(tamanio)]\n",
    "#valor = [[bool() for ind0 in range(tamanio)] for ind1 in range(tamanio)]\n",
    "valor, tabla, t = InicializarTablero(tamanio, tabla, valor)\n",
    "\n",
    "#print(tabla)\n",
    "#print(valor)"
   ]
  }
 ],
 "metadata": {
  "kernelspec": {
   "display_name": "Python 3",
   "language": "python",
   "name": "python3"
  },
  "language_info": {
   "codemirror_mode": {
    "name": "ipython",
    "version": 3
   },
   "file_extension": ".py",
   "mimetype": "text/x-python",
   "name": "python",
   "nbconvert_exporter": "python",
   "pygments_lexer": "ipython3",
   "version": "3.12.2"
  }
 },
 "nbformat": 4,
 "nbformat_minor": 2
}
