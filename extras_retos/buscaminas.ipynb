{
 "cells": [
  {
   "cell_type": "markdown",
   "metadata": {},
   "source": [
    "### Función max, min: Función auxiliar que calcula el máximo y minimo de dos números"
   ]
  },
  {
   "cell_type": "code",
   "execution_count": 1,
   "metadata": {},
   "outputs": [],
   "source": [
    "def max(num1: int, num2: int) -> int:\n",
    "    return num1 if num1 > num2 else num2\n",
    "\n",
    "def min(num1: int, num2: int) -> int:\n",
    "    return num1 if num1 < num2 else num2\n"
   ]
  },
  {
   "cell_type": "markdown",
   "metadata": {},
   "source": [
    "- Función IncializarTablero: Función que recibe las dos talbas: tablero, visible\n",
    "- Incializa tablero con valores 0\n",
    "- Incializa visible con valores Falso, indicando que están ocultas"
   ]
  },
  {
   "cell_type": "code",
   "execution_count": 6,
   "metadata": {},
   "outputs": [
    {
     "ename": "IndexError",
     "evalue": "list assignment index out of range",
     "output_type": "error",
     "traceback": [
      "\u001b[1;31m---------------------------------------------------------------------------\u001b[0m",
      "\u001b[1;31mIndexError\u001b[0m                                Traceback (most recent call last)",
      "Cell \u001b[1;32mIn[6], line 28\u001b[0m\n\u001b[0;32m     26\u001b[0m tabla \u001b[38;5;241m=\u001b[39m [[],[]]\n\u001b[0;32m     27\u001b[0m valor \u001b[38;5;241m=\u001b[39m [[],[]]\n\u001b[1;32m---> 28\u001b[0m \u001b[43mInicializarTablero\u001b[49m\u001b[43m(\u001b[49m\u001b[43mtabla\u001b[49m\u001b[43m,\u001b[49m\u001b[43m \u001b[49m\u001b[43mvalor\u001b[49m\u001b[43m)\u001b[49m\n",
      "Cell \u001b[1;32mIn[6], line 23\u001b[0m, in \u001b[0;36mInicializarTablero\u001b[1;34m(tablero, visible)\u001b[0m\n\u001b[0;32m     21\u001b[0m \u001b[38;5;28;01mfor\u001b[39;00m i \u001b[38;5;129;01min\u001b[39;00m \u001b[38;5;28mrange\u001b[39m(\u001b[38;5;241m10\u001b[39m):\n\u001b[0;32m     22\u001b[0m     \u001b[38;5;28;01mfor\u001b[39;00m j \u001b[38;5;129;01min\u001b[39;00m \u001b[38;5;28mrange\u001b[39m(\u001b[38;5;241m10\u001b[39m):\n\u001b[1;32m---> 23\u001b[0m         \u001b[43mtablero\u001b[49m\u001b[43m[\u001b[49m\u001b[43mi\u001b[49m\u001b[43m]\u001b[49m\u001b[43m[\u001b[49m\u001b[43mj\u001b[49m\u001b[43m]\u001b[49m \u001b[38;5;241m=\u001b[39m j\n\u001b[0;32m     24\u001b[0m \u001b[38;5;28mprint\u001b[39m(tablero)\n",
      "\u001b[1;31mIndexError\u001b[0m: list assignment index out of range"
     ]
    }
   ],
   "source": [
    "\"\"\"\n",
    "Funcion InicializarTablero(tablero Por Referencia,visible Por Referencia)\n",
    "\tDefinir fila,colum como Entero;\n",
    "\t//Incializo el tablero con valor 0\n",
    "\tPara fila<-0 hasta 9 Hacer\n",
    "\t\tPara colum<-0 hasta 9 Hacer\n",
    "\t\t\ttablero[fila,colum]<-0;\n",
    "\t\tFinPara\n",
    "\tFinPara\n",
    "\tPonerMinas(tablero);\n",
    "\t//Incializo la tabla visible a falso indicando que ninguna celda está descubierta\n",
    "\tPara fila<-0 hasta 9 Hacer\n",
    "\t\tPara colum<-0 hasta 9 Hacer\n",
    "\t\t\tvisible[fila,colum]<-Falso;\n",
    "\t\tFinPara\n",
    "\tFinPara\n",
    "\t\n",
    "FinFuncion\n",
    "\"\"\"\n",
    "def InicializarTablero(tablero: list = [[],[]], visible: list = [[],[]]):\n",
    "    for i in range(10):\n",
    "        for j in range(10):\n",
    "            tablero[i][j] = j\n",
    "    print(tablero)\n",
    "\n",
    "tabla = [[],[]]\n",
    "valor = [[],[]]\n",
    "InicializarTablero(tabla, valor)\n"
   ]
  }
 ],
 "metadata": {
  "kernelspec": {
   "display_name": "Python 3",
   "language": "python",
   "name": "python3"
  },
  "language_info": {
   "codemirror_mode": {
    "name": "ipython",
    "version": 3
   },
   "file_extension": ".py",
   "mimetype": "text/x-python",
   "name": "python",
   "nbconvert_exporter": "python",
   "pygments_lexer": "ipython3",
   "version": "3.12.2"
  }
 },
 "nbformat": 4,
 "nbformat_minor": 2
}
