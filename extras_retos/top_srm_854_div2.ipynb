{
 "cells": [
  {
   "cell_type": "markdown",
   "metadata": {},
   "source": [
    "# ***TOPCODER ARENA SRM 854 div2***"
   ]
  },
  {
   "cell_type": "markdown",
   "metadata": {},
   "source": [
    "There are N bags of candy. The bags are numbered from 0 to N-1, inclusive. For each i, bag number i contains bags[i] pieces of candy.\n",
    "You want to give the bags of candy to N kids. In order to do that, you need to make sure that each bag contains the same number of candies.\n",
    "Before you give the bags to the kids, you want to eat some candies from the bags. More precisely, you would like to eat exactly E pieces of candy.\n",
    " \n",
    "You are given the int N, the int[] bags and the int E. Determine whether it's possible to eat exactly E candies in such a way that after you are done eating, each bag contains the same number of candies. Return \"possible\" if it can be done and \"impossible\" if it cannot be done."
   ]
  },
  {
   "cell_type": "markdown",
   "metadata": {},
   "source": [
    "- Class:\n",
    "EqualizeBags\n",
    "- Method:\n",
    "check\n",
    "- Parameters:\n",
    "int, int[], int\n",
    "-Returns:\n",
    "String\n",
    "- Method signature:\n",
    "String check(int N, int[] bags, int E)\n",
    "\n",
    "(be sure your method is public)\n",
    " \n"
   ]
  },
  {
   "cell_type": "markdown",
   "metadata": {},
   "source": [
    "#### Limits\n",
    "\n",
    "Time limit (s): 2.000\n",
    "\n",
    "Memory limit (MB): 256\n",
    "\n",
    "#### Notes\n",
    "- The return value is case-sensitive and must be all lowercase.\n",
    "Constraints\n",
    "- N will be between 1 and 50, inclusive.\n",
    "- bags will have N elements.\n",
    "- Each element of bags will be positive.\n",
    "- The sum of all elements of bags will not exceed 10^9.\n",
    "- E will be between 0 and 10^9, inclusive."
   ]
  },
  {
   "cell_type": "markdown",
   "metadata": {},
   "source": [
    "### Examples\n",
    "#### 0\n",
    "- 3\n",
    "- {5, 47, 5}\n",
    "- 42\n",
    "- Returns: \"possible\"\n",
    "- If you eat all 42 candies from the middle bag (bag #1), you will be left with three bags containing 5 candies each.\n",
    "\n",
    "#### 1  \n",
    "- 3\n",
    "- {5, 47, 5}\n",
    "- 43\n",
    "- Returns: \"impossible\"\n",
    "- Regardless of how you eat 43 candies, the three bags won't be equal once you're done.\n",
    "\n",
    "#### 2    \n",
    "- 3\n",
    "- {5, 47, 6}\n",
    "- 43\n",
    "- Returns: \"possible\"\n",
    "- In this scenario you should eat 42 candies from bag #1 and one candy from bag #2.\n",
    "\n",
    "#### 3\n",
    "- 1\n",
    "- {47}\n",
    "- 42\n",
    "- Returns: \"possible\"\n",
    "- If there's just one bag the condition \"each bag contains the same number of candies\" is always satisfied.\n",
    "\n",
    "#### 4    \n",
    "- 1\n",
    "- {42}\n",
    "- 47\n",
    "- Returns: \"impossible\"\n",
    "- There is no way to eat 47 candies in this scenario.\n",
    "\n",
    "### 5  \n",
    "- 5\n",
    "- {1001, 1005, 1002, 1004, 1003}\n",
    "- 200\n",
    "- Returns: \"possible\""
   ]
  },
  {
   "cell_type": "code",
   "execution_count": 8,
   "metadata": {},
   "outputs": [
    {
     "name": "stdout",
     "output_type": "stream",
     "text": [
      "possible\n"
     ]
    }
   ],
   "source": [
    "class EqualizeBags:\n",
    "    def check(self, N:int, bags:list, E:int):\n",
    "        if sum(bags) >= E:\n",
    "            if sum(bags) % N == 0:\n",
    "                if E % N == 0:\n",
    "                    return \"possible\" \n",
    "                else:\n",
    "                    return \"impossible\"\n",
    "            else:\n",
    "                dulces_sobra = sum(bags) % N\n",
    "                comidos_E = E - dulces_sobra\n",
    "                if comidos_E % N == 0:\n",
    "                    return \"possible\" \n",
    "                else:\n",
    "                    return \"impossible\"\n",
    "        else:\n",
    "            return \"impossible\"\n",
    "\n",
    "a = EqualizeBags()\n",
    "print(a.check(1,[47],42 ))\n",
    "\n"
   ]
  },
  {
   "cell_type": "code",
   "execution_count": null,
   "metadata": {},
   "outputs": [],
   "source": [
    "class EqualizeBags:\n",
    "    def check(self, N:int, bags:list, E:int):\n",
    "        minE = sum(bags) - min(bags) * N\n",
    "        if E < minE or sum(bags) < E:\n",
    "            return \"impossible\"\n",
    "        return \"possible\" if (E - minE) % N == 0 else \"impossible\""
   ]
  },
  {
   "cell_type": "markdown",
   "metadata": {},
   "source": [
    "![suerte1](gato.jpg)\n",
    "![suerte2](fedelobo.jpg)"
   ]
  }
 ],
 "metadata": {
  "kernelspec": {
   "display_name": "Python 3",
   "language": "python",
   "name": "python3"
  },
  "language_info": {
   "codemirror_mode": {
    "name": "ipython",
    "version": 3
   },
   "file_extension": ".py",
   "mimetype": "text/x-python",
   "name": "python",
   "nbconvert_exporter": "python",
   "pygments_lexer": "ipython3",
   "version": "3.12.2"
  }
 },
 "nbformat": 4,
 "nbformat_minor": 2
}
