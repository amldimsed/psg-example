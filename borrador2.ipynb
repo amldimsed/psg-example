{
 "cells": [
  {
   "cell_type": "code",
   "execution_count": 6,
   "metadata": {},
   "outputs": [
    {
     "name": "stdout",
     "output_type": "stream",
     "text": [
      "global :  1\n",
      "Inside f() :  1\n",
      "global :  1\n",
      "Inside g() :  2\n",
      "global :  1\n",
      "Inside h() :  3\n",
      "global :  3\n"
     ]
    }
   ],
   "source": [
    " \n",
    "# Uses global because there is no local 'a'\n",
    "def f():\n",
    "    print('Inside f() : ', a)\n",
    " \n",
    "# Variable 'a' is redefined as a local\n",
    "def g():\n",
    "    a = 2\n",
    "    print('Inside g() : ', a)\n",
    " \n",
    "# Uses global keyword to modify global 'a'\n",
    "def h():\n",
    "    \n",
    "    global a\n",
    "    a = 3\n",
    "    print('Inside h() : ', a)\n",
    " \n",
    "a = 1\n",
    "# Global scope\n",
    "print('global : ', a)\n",
    "f()\n",
    "print('global : ', a)\n",
    "g()\n",
    "print('global : ', a)\n",
    "h()\n",
    "print('global : ', a)"
   ]
  }
 ],
 "metadata": {
  "kernelspec": {
   "display_name": "Python 3",
   "language": "python",
   "name": "python3"
  },
  "language_info": {
   "codemirror_mode": {
    "name": "ipython",
    "version": 3
   },
   "file_extension": ".py",
   "mimetype": "text/x-python",
   "name": "python",
   "nbconvert_exporter": "python",
   "pygments_lexer": "ipython3",
   "version": "3.12.2"
  }
 },
 "nbformat": 4,
 "nbformat_minor": 2
}
