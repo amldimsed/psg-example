{
 "cells": [
  {
   "cell_type": "markdown",
   "metadata": {},
   "source": [
    "# Busca minas"
   ]
  },
  {
   "cell_type": "markdown",
   "metadata": {},
   "source": [
    "- El juego consiste en despejar todas las casillas de una pantalla que no oculten una mina.\n",
    "    \n",
    "- Algunas casillas tienen un número, este número indica las minas que son en todas las casillas circundantes. Así, si una casilla tiene el número 3, significa que de las ocho casillas que hay alrededor (si no es en una esquina o borde) hay 3 con minas y 5 sin minas.\n",
    "    \n",
    "- Si se descubre una casilla sin número indica que ninguna de las casillas vecinas tiene mina y estas se descubren automáticamente.\n",
    "    \n",
    "- Si se descubre una casilla con una mina se pierde la partida.\n",
    "    \n",
    "- Se puede poner una marca en las casillas que el jugador piensa que hay minas para ayudar a descubrir la que están cerca."
   ]
  },
  {
   "cell_type": "code",
   "execution_count": 1,
   "metadata": {},
   "outputs": [
    {
     "name": "stdout",
     "output_type": "stream",
     "text": [
      "\n",
      "    000000000000000000    \n",
      "    00001bbbb000000000\n",
      "    0000bbbb1000000000\n",
      "    0000000000000bbbb0\n",
      "    00000300000000bbb3\n",
      "    000000000000bbbbb0\n",
      "    00002bbbbbb0000000\n",
      "    00002bbbbbb0000000\n",
      "    bbbbbbb1bb00000000\n",
      "    30000bb1bbb0000000\n",
      "    000000000000000000\n",
      "    \n"
     ]
    }
   ],
   "source": [
    "print(\"\"\"\n",
    "    000000000000000000    \n",
    "    00001bbbb000000000\n",
    "    0000bbbb1000000000\n",
    "    0000000000000bbbb0\n",
    "    00000300000000bbb3\n",
    "    000000000000bbbbb0\n",
    "    00002bbbbbb0000000\n",
    "    00002bbbbbb0000000\n",
    "    bbbbbbb1bb00000000\n",
    "    30000bb1bbb0000000\n",
    "    000000000000000000\n",
    "    \"\"\")"
   ]
  },
  {
   "cell_type": "code",
   "execution_count": 3,
   "metadata": {},
   "outputs": [
    {
     "name": "stdout",
     "output_type": "stream",
     "text": [
      "\n",
      "    000000000000000000    \n",
      "    00001bbbb000000000\n",
      "    0000bbbb1000000000\n",
      "    0000000000000bbbb0\n",
      "    00000011100000bbb3\n",
      "    0000b122b000bbbbb0\n",
      "    0000bb121bb0000000\n",
      "    0000bb23bbb0000000\n",
      "    11bbb111bb00000000\n",
      "    31000bb1bbb0000000\n",
      "    211000000000000000\n",
      "    \n"
     ]
    }
   ],
   "source": [
    "print(\"\"\"\n",
    "    000000000000000000    \n",
    "    00001bbbb000000000\n",
    "    0000bbbb1000000000\n",
    "    0000000000000bbbb0\n",
    "    00000011100000bbb3\n",
    "    0000b122b000bbbbb0\n",
    "    0000bb121bb0000000\n",
    "    0000bb23bbb0000000\n",
    "    11bbb111bb00000000\n",
    "    31000bb1bbb0000000\n",
    "    211000000000000000\n",
    "    \"\"\")"
   ]
  },
  {
   "cell_type": "markdown",
   "metadata": {},
   "source": [
    "![finalizado](busca_minas.jpg)"
   ]
  }
 ],
 "metadata": {
  "kernelspec": {
   "display_name": "Python 3",
   "language": "python",
   "name": "python3"
  },
  "language_info": {
   "codemirror_mode": {
    "name": "ipython",
    "version": 3
   },
   "file_extension": ".py",
   "mimetype": "text/x-python",
   "name": "python",
   "nbconvert_exporter": "python",
   "pygments_lexer": "ipython3",
   "version": "3.12.2"
  }
 },
 "nbformat": 4,
 "nbformat_minor": 2
}
