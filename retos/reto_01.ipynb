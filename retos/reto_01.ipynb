{
 "cells": [
  {
   "cell_type": "markdown",
   "metadata": {},
   "source": [
    "# Reto 1    R_: 💖 NO\n",
    "![prueba pep](uno.jpg)"
   ]
  },
  {
   "cell_type": "code",
   "execution_count": 1,
   "metadata": {},
   "outputs": [
    {
     "name": "stdout",
     "output_type": "stream",
     "text": [
      "¡Es un numero par!\n"
     ]
    }
   ],
   "source": [
    "def verificar_par(n):\n",
    "    if n % 2 == 0:\n",
    "        print(\"¡Es un numero par!\")\n",
    "    else:\n",
    "        print(\"¡Es un numero impar!\")\n",
    "\"\"\"\n",
    "👍🤟 SI\n",
    "\"\"\"\n",
    "verificar_par(158793258)"
   ]
  }
 ],
 "metadata": {
  "kernelspec": {
   "display_name": "Python 3",
   "language": "python",
   "name": "python3"
  },
  "language_info": {
   "codemirror_mode": {
    "name": "ipython",
    "version": 3
   },
   "file_extension": ".py",
   "mimetype": "text/x-python",
   "name": "python",
   "nbconvert_exporter": "python",
   "pygments_lexer": "ipython3",
   "version": "3.12.2"
  }
 },
 "nbformat": 4,
 "nbformat_minor": 2
}
