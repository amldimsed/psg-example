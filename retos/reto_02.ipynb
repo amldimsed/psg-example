{
 "cells": [
  {
   "cell_type": "markdown",
   "metadata": {},
   "source": [
    "# Reto 2    R_:\n",
    "- ## print(\"¡Python es lo mejor!\")\n",
    "![prueba pep](dos.jpg)"
   ]
  },
  {
   "cell_type": "code",
   "execution_count": 1,
   "metadata": {},
   "outputs": [
    {
     "name": "stdout",
     "output_type": "stream",
     "text": [
      "¡Python es lo mejor!\n",
      "Yo me ejecutaré primero!!\n",
      "Iniciando el programa....\n"
     ]
    }
   ],
   "source": [
    "print(\"¡Python es lo mejor!\")\n",
    "print(\"Yo me ejecutaré primero!!\")\n",
    "print(\"Iniciando el programa....\")"
   ]
  },
  {
   "cell_type": "markdown",
   "metadata": {},
   "source": [
    "![pequeñas pesadillas](little_nigthmare.jpg)"
   ]
  }
 ],
 "metadata": {
  "kernelspec": {
   "display_name": "Python 3",
   "language": "python",
   "name": "python3"
  },
  "language_info": {
   "codemirror_mode": {
    "name": "ipython",
    "version": 3
   },
   "file_extension": ".py",
   "mimetype": "text/x-python",
   "name": "python",
   "nbconvert_exporter": "python",
   "pygments_lexer": "ipython3",
   "version": "3.12.2"
  }
 },
 "nbformat": 4,
 "nbformat_minor": 2
}
