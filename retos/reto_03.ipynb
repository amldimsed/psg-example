{
 "cells": [
  {
   "cell_type": "markdown",
   "metadata": {},
   "source": [
    "# Reto 3 R_:\n",
    "- ## print(\"👍 UN GATO\")\n",
    "![prueba pep](tres.jpg)"
   ]
  },
  {
   "cell_type": "code",
   "execution_count": 2,
   "metadata": {},
   "outputs": [
    {
     "name": "stdout",
     "output_type": "stream",
     "text": [
      " /\\_/\\ \n",
      " (o.o) \n",
      " > ^ < \n"
     ]
    },
    {
     "name": "stderr",
     "output_type": "stream",
     "text": [
      "<>:1: SyntaxWarning: invalid escape sequence '\\_'\n",
      "<>:1: SyntaxWarning: invalid escape sequence '\\_'\n",
      "C:\\Users\\Intel\\AppData\\Local\\Temp\\ipykernel_6168\\2991949433.py:1: SyntaxWarning: invalid escape sequence '\\_'\n",
      "  print(\" /\\_/\\ \")\n"
     ]
    }
   ],
   "source": [
    "print(\" /\\_/\\ \")\n",
    "print(\" (o.o) \")\n",
    "print(\" > ^ < \")"
   ]
  },
  {
   "cell_type": "markdown",
   "metadata": {},
   "source": [
    "## Generacion de gatos para aceptar.....\n",
    "![un gato1](silvestre.jpg)\n",
    "\n",
    "![un gato2](gato_puck.jpg)\n",
    "\n",
    "![un gato3](gato_manga.jpg)\n",
    "\n",
    "![un gato4](gato_anime.jpg)"
   ]
  }
 ],
 "metadata": {
  "kernelspec": {
   "display_name": "Python 3",
   "language": "python",
   "name": "python3"
  },
  "language_info": {
   "codemirror_mode": {
    "name": "ipython",
    "version": 3
   },
   "file_extension": ".py",
   "mimetype": "text/x-python",
   "name": "python",
   "nbconvert_exporter": "python",
   "pygments_lexer": "ipython3",
   "version": "3.12.2"
  }
 },
 "nbformat": 4,
 "nbformat_minor": 2
}
