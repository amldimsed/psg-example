{
 "cells": [
  {
   "cell_type": "code",
   "execution_count": 4,
   "metadata": {},
   "outputs": [
    {
     "name": "stdout",
     "output_type": "stream",
     "text": [
      "1, 2, 3, 4, "
     ]
    }
   ],
   "source": [
    "for i in [1, 2, 3, 4]:\n",
    "    print(i, end=\", \")"
   ]
  },
  {
   "cell_type": "code",
   "execution_count": 6,
   "metadata": {},
   "outputs": [
    {
     "name": "stdout",
     "output_type": "stream",
     "text": [
      "0, 1, 2, 3, 4, "
     ]
    }
   ],
   "source": [
    "for i in range(5):\n",
    "    print(i, end=\", \")"
   ]
  },
  {
   "cell_type": "code",
   "execution_count": 7,
   "metadata": {},
   "outputs": [
    {
     "name": "stdout",
     "output_type": "stream",
     "text": [
      "-1, 0, 1, 2, 3, 4, "
     ]
    }
   ],
   "source": [
    "for i in range(-1, 5):\n",
    "    print(i, end=\", \")"
   ]
  },
  {
   "cell_type": "code",
   "execution_count": 9,
   "metadata": {},
   "outputs": [
    {
     "name": "stdout",
     "output_type": "stream",
     "text": [
      "-1, 1, 3, "
     ]
    }
   ],
   "source": [
    "for i in range(-1, 5, 2):\n",
    "    print(i, end=\", \")"
   ]
  },
  {
   "cell_type": "code",
   "execution_count": 16,
   "metadata": {},
   "outputs": [
    {
     "name": "stdout",
     "output_type": "stream",
     "text": [
      "0  0  0  0  0  0  0  0  0  0  \n",
      "\n",
      "1  1  1  1  1  1  1  1  1  1  \n",
      "\n",
      "2  2  2  2  2  2  2  2  2  2  \n",
      "\n",
      "3  3  3  3  3  3  3  3  3  3  \n",
      "\n",
      "4  4  4  4  4  4  4  4  4  4  \n",
      "\n",
      "5  5  5  5  5  5  5  5  5  5  \n",
      "\n",
      "6  6  6  6  6  6  6  6  6  6  \n",
      "\n",
      "7  7  7  7  7  7  7  7  7  7  \n",
      "\n",
      "8  8  8  8  8  8  8  8  8  8  \n",
      "\n",
      "9  9  9  9  9  9  9  9  9  9  \n",
      "\n"
     ]
    }
   ],
   "source": [
    "for x in range(0,10):\n",
    "    for k in range(0,10):\n",
    "        print(x, end=\"  \")\n",
    "    print(\"\\n\")"
   ]
  },
  {
   "cell_type": "code",
   "execution_count": 22,
   "metadata": {},
   "outputs": [
    {
     "name": "stdout",
     "output_type": "stream",
     "text": [
      "0, -1, -2, -3, -4, -5, -6, -7, -8, -9, -10, -11, -12, -13, "
     ]
    }
   ],
   "source": [
    "for t in range(0, -14, -1):\n",
    "    print(t, end=\", \")"
   ]
  },
  {
   "cell_type": "code",
   "execution_count": 26,
   "metadata": {},
   "outputs": [
    {
     "name": "stdout",
     "output_type": "stream",
     "text": [
      "0, 2, 4, 6, 8, 10, 12, 14, 16, 18, range(0, 20, 2)\n"
     ]
    },
    {
     "data": {
      "text/plain": [
       "False"
      ]
     },
     "execution_count": 26,
     "metadata": {},
     "output_type": "execute_result"
    }
   ],
   "source": [
    "r = range(0, 20, 2)\n",
    "for y in r:\n",
    "    print(y, end=\", \")\n",
    "print(r)\n",
    "11 in r"
   ]
  },
  {
   "cell_type": "code",
   "execution_count": 27,
   "metadata": {},
   "outputs": [
    {
     "name": "stdout",
     "output_type": "stream",
     "text": [
      "Juan\n",
      "Susana\n",
      "Pedro\n",
      "Laura\n",
      "Carmen\n"
     ]
    }
   ],
   "source": [
    "mi_lista = ['Juan', 'Pedro', 'Laura', 'Carmen', 'Susana']\n",
    "print(mi_lista[0]) # Muestra Juan (la primera posición es la 0)\n",
    "print(mi_lista[-1]) # Muestra Susana\n",
    "print(mi_lista[1]) # Muestra Pedro\n",
    "print(mi_lista[2]) # Muestra Laura\n",
    "print(mi_lista[-2]) # Muestra Carmen"
   ]
  },
  {
   "cell_type": "code",
   "execution_count": 30,
   "metadata": {},
   "outputs": [
    {
     "name": "stdout",
     "output_type": "stream",
     "text": [
      "20\n",
      "41\n",
      "6\n",
      "18\n",
      "23\n",
      "20, 41, 6, 18, 23, "
     ]
    }
   ],
   "source": [
    "edades = [20, 41, 6, 18, 23]\n",
    "\n",
    "# Recorriendo los elementos\n",
    "for edad in edades:\n",
    "    print(edad)\n",
    "\n",
    "# Recorriendo los índices\n",
    "for i in range(len(edades)):\n",
    "    print(edades[i], end=\", \")"
   ]
  },
  {
   "cell_type": "code",
   "execution_count": 8,
   "metadata": {},
   "outputs": [
    {
     "name": "stdout",
     "output_type": "stream",
     "text": [
      "nombre: Juan\n",
      "edad: 23\n",
      "usuario: jn23\n"
     ]
    }
   ],
   "source": [
    "mi_diccionario = {\n",
    "    \"nombre\": \"Juan\",\n",
    "    \"edad\": \"23\",\n",
    "    \"usuario\": \"jn23\",\n",
    "}\n",
    "# Recorriendo los elementos\n",
    "\n",
    "for ads in mi_diccionario:\n",
    "    print(ads, \": \", mi_diccionario[ads], sep='')"
   ]
  },
  {
   "cell_type": "code",
   "execution_count": 12,
   "metadata": {},
   "outputs": [
    {
     "name": "stdout",
     "output_type": "stream",
     "text": [
      "Juan, Laura, alex, \n",
      "21, 32, 34, \n"
     ]
    }
   ],
   "source": [
    "mi_tabla = [['Juan', 'Laura', \"alex\"], [21, 32, 34]]\n",
    "\n",
    "for i in range(len(mi_tabla)):\n",
    "    for j in range(len(mi_tabla[i])):\n",
    "        print(mi_tabla[i][j],end=\", \")\n",
    "    print()"
   ]
  },
  {
   "cell_type": "code",
   "execution_count": 38,
   "metadata": {},
   "outputs": [
    {
     "name": "stdout",
     "output_type": "stream",
     "text": [
      "Juan, Laura, alex, \n",
      "21, 32, 34, \n"
     ]
    }
   ],
   "source": [
    "mi_tabla = [['Juan', 'Laura', \"alex\"], [21, 32, 34]]\n",
    "\n",
    "for i in mi_tabla:\n",
    "    for j in i:\n",
    "        print(j, end=\", \")\n",
    "    print()"
   ]
  },
  {
   "cell_type": "code",
   "execution_count": 14,
   "metadata": {},
   "outputs": [
    {
     "name": "stdout",
     "output_type": "stream",
     "text": [
      "Hola\n"
     ]
    }
   ],
   "source": [
    "def di_hola():\n",
    "    print(\"Hola\")\n",
    "\n",
    "di_hola()"
   ]
  },
  {
   "cell_type": "code",
   "execution_count": 15,
   "metadata": {},
   "outputs": [
    {
     "name": "stdout",
     "output_type": "stream",
     "text": [
      "Hola Juan\n"
     ]
    }
   ],
   "source": [
    "def di_hola(nombre):\n",
    "    print(\"Hola\", nombre)\n",
    "di_hola(\"Juan\")"
   ]
  },
  {
   "cell_type": "code",
   "execution_count": 17,
   "metadata": {},
   "outputs": [
    {
     "data": {
      "text/plain": [
       "2"
      ]
     },
     "execution_count": 17,
     "metadata": {},
     "output_type": "execute_result"
    }
   ],
   "source": [
    "def resta(a, b):\n",
    "    return a-b\n",
    "\n",
    "resta(5, 3) # 2"
   ]
  },
  {
   "cell_type": "code",
   "execution_count": 24,
   "metadata": {},
   "outputs": [
    {
     "data": {
      "text/plain": [
       "13"
      ]
     },
     "execution_count": 24,
     "metadata": {},
     "output_type": "execute_result"
    }
   ],
   "source": [
    "def suma(numeros):\n",
    "    total = 0\n",
    "    for n in numeros:\n",
    "        total += n\n",
    "    return total\n",
    "suma([1,3,5,4]) # 13\n"
   ]
  },
  {
   "cell_type": "code",
   "execution_count": 26,
   "metadata": {},
   "outputs": [
    {
     "name": "stdout",
     "output_type": "stream",
     "text": [
      "<class 'tuple'>\n",
      "13\n"
     ]
    }
   ],
   "source": [
    "def suma(*numeros):\n",
    "    print(type(numeros))\n",
    "    # <class 'tuple'>\n",
    "    total = 0\n",
    "    for n in numeros:\n",
    "        total += n\n",
    "    return total\n",
    "print(suma(1, 3, 5, 4)) # 13"
   ]
  },
  {
   "cell_type": "code",
   "execution_count": 33,
   "metadata": {},
   "outputs": [
    {
     "name": "stdout",
     "output_type": "stream",
     "text": [
      "[10, 20, 30]\n"
     ]
    }
   ],
   "source": [
    "x = [10, 20, 30]\n",
    "def funcion(entrada):\n",
    "    \n",
    "    return entrada\n",
    "\n",
    "funcion(x)\n",
    "print(funcion(x))"
   ]
  },
  {
   "cell_type": "markdown",
   "metadata": {},
   "source": [
    "## Expresiones Idiomáticas"
   ]
  },
  {
   "cell_type": "code",
   "execution_count": 2,
   "metadata": {},
   "outputs": [
    {
     "name": "stdout",
     "output_type": "stream",
     "text": [
      "[2, 4, 6]\n"
     ]
    }
   ],
   "source": [
    "def filtrar_pares(salida: list = []) -> list:\n",
    "    \"\"\"\n",
    "    aux=[]\n",
    "    for x in salida:\n",
    "        if x % 2 == 0:\n",
    "            aux.append(x)\n",
    "    return aux\n",
    "    \"\"\"\n",
    "    return [i for i in salida if i%2 == 0]\n",
    "\n",
    "print(filtrar_pares([1, 2, 3, 4, 5, 6]))\n",
    "# Salida: [2, 4, 6]"
   ]
  },
  {
   "cell_type": "code",
   "execution_count": 35,
   "metadata": {},
   "outputs": [
    {
     "name": "stdout",
     "output_type": "stream",
     "text": [
      "[56, 34, 1]\n",
      "[12, 4, 5]\n",
      "[9, 4, 3]\n"
     ]
    }
   ],
   "source": [
    "lista = [[56, 34, 1],\n",
    "         [12, 4, 5],\n",
    "         [9, 4, 3]]\n",
    "for i in lista:\n",
    "    print(i)"
   ]
  },
  {
   "cell_type": "code",
   "execution_count": 5,
   "metadata": {},
   "outputs": [
    {
     "name": "stdout",
     "output_type": "stream",
     "text": [
      "0, 0, 0, \n",
      "0, 0, 0, \n",
      "0, 0, 0, \n"
     ]
    }
   ],
   "source": [
    "aux1=[]\n",
    "for ind0 in range(3):\n",
    "    aux1 = int()\n",
    "\n",
    "tablero = [[int() for ind0 in range(3)] for ind1 in range(3)]\n",
    "\n",
    "for i in range(3):\n",
    "    for j in range(3):\n",
    "        print(tablero[i][j], end=\", \")\n",
    "    print()        "
   ]
  }
 ],
 "metadata": {
  "kernelspec": {
   "display_name": "Python 3",
   "language": "python",
   "name": "python3"
  },
  "language_info": {
   "codemirror_mode": {
    "name": "ipython",
    "version": 3
   },
   "file_extension": ".py",
   "mimetype": "text/x-python",
   "name": "python",
   "nbconvert_exporter": "python",
   "pygments_lexer": "ipython3",
   "version": "3.12.2"
  }
 },
 "nbformat": 4,
 "nbformat_minor": 2
}
