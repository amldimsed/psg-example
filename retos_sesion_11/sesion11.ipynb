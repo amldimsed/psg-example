{
 "cells": [
  {
   "cell_type": "markdown",
   "metadata": {},
   "source": [
    "# ¿Qué es un diccionario?\n",
    "\n",
    "Es una estructura de datos que permite almacenar pares de elementos clave-valor\n",
    "\n",
    "Al igual que las listas y las tuplas, los diccionarios son colecciones de elementos\n",
    "\n",
    "Se llaman diccionarios porque funcionan de manera similar a un diccionario de palabras\n",
    "\n",
    "- La palabra es la clave\n",
    "- El significado es el valo\n",
    "\n",
    "Un diccionario es una secuencia de objetos MUTABLES\n",
    "\n",
    "- Ordenado\n",
    "- Indexado por claves\n",
    "- Reescribe duplicados"
   ]
  },
  {
   "cell_type": "markdown",
   "metadata": {},
   "source": [
    "***Mutable:*** Los elementos de un diccionario pueden ser modificados después de su creación"
   ]
  },
  {
   "cell_type": "code",
   "execution_count": 1,
   "metadata": {},
   "outputs": [
    {
     "name": "stdout",
     "output_type": "stream",
     "text": [
      "{'perro': '🐶', 'gato': '🐱', 'ave': '🐦'}\n",
      "{'perro': '🐩', 'gato': '🐱', 'ave': '🐦'}\n"
     ]
    }
   ],
   "source": [
    "diccionario = {'perro': '🐶', 'gato': '🐱', 'ave': '🐦'}\n",
    "print(diccionario) # {'perro': '🐶', 'gato': '🐱', 'ave': '🐦'}\n",
    "diccionario['perro'] = '🐩'\n",
    "print(diccionario) # {'perro': '🐩', 'gato': '🐱', 'ave': '🐦'}"
   ]
  },
  {
   "cell_type": "markdown",
   "metadata": {},
   "source": [
    "***Ordenados:*** Los elementos de un diccionario mantienen el orden de inserción de los elementos"
   ]
  },
  {
   "cell_type": "code",
   "execution_count": 2,
   "metadata": {},
   "outputs": [
    {
     "name": "stdout",
     "output_type": "stream",
     "text": [
      "{'perro': '🐶', 'gato': '🐱', 'ave': '🐦'}\n"
     ]
    }
   ],
   "source": [
    "diccionario = {'perro': '🐶', 'gato': '🐱', 'ave': '🐦'}\n",
    "print(diccionario) # {'perro': '🐶', 'gato': '🐱', 'ave': '🐦'}"
   ]
  },
  {
   "cell_type": "markdown",
   "metadata": {},
   "source": [
    "***Indexado por claves:*** Los elementos de un diccionario son indexados por claves"
   ]
  },
  {
   "cell_type": "code",
   "execution_count": 3,
   "metadata": {},
   "outputs": [
    {
     "name": "stdout",
     "output_type": "stream",
     "text": [
      "🐶\n",
      "🐱\n"
     ]
    }
   ],
   "source": [
    "diccionario = {'perro': '🐶', 'gato': '🐱', 'ave': '🐦'}\n",
    "print(diccionario['perro']) # 🐶\n",
    "print(diccionario['gato']) # 🐱"
   ]
  },
  {
   "cell_type": "markdown",
   "metadata": {},
   "source": [
    "***Reescribe duplicados:*** Los diccionarios no permiten claves duplicadas se reescribe el valor de la clave"
   ]
  },
  {
   "cell_type": "code",
   "execution_count": 4,
   "metadata": {},
   "outputs": [
    {
     "name": "stdout",
     "output_type": "stream",
     "text": [
      "{'perro': '🐩', 'gato': '🐱', 'ave': '🐦'}\n"
     ]
    }
   ],
   "source": [
    "diccionario = {'perro': '🐶', 'gato': '🐱', 'ave': '🐦', 'perro': '🐩'}\n",
    "print(diccionario) # {'perro': '🐩', 'gato': '🐱', 'ave': '🐦'}"
   ]
  },
  {
   "cell_type": "markdown",
   "metadata": {},
   "source": [
    "## USOS DE LOS DICCIONARIOS\n",
    "\n",
    "- Almacenar información estructurada\n",
    "- Guardar configuraciones y traducciones\n",
    "- Recuperar información de bases de datos\n",
    "- Describir objetos\n",
    "\n",
    "## ¿CÓMO DECLARAR UN DICCIONARIO?\n",
    "\n",
    "En python se declara utilizando llaves {}\n",
    "\n",
    "Separando los pares clave-valor con comas ,\n",
    "\n",
    "Separando la clave del valor con dos puntos :\n",
    "\n",
    "***mi_diccionario = {'clave1': 'valor1',***\n",
    "                  ***'clave2': 'valor2',*** \n",
    "                  ***'clave3': 'valor3', ... }***\n",
    "\n",
    "- mi_diccionario: Es el nombre de la variable que almacena el diccionario\n",
    "- clave1, clave2, clave3: Son las claves del diccionario\n",
    "- valor1, valor2, valor3: Son los valores del diccionario\n",
    "- 'clave1':'valor1': Son los pares clave-valor unidos por dos puntos :\n",
    "\n",
    "También se puede declarar un diccionario utilizando la \n",
    "\n",
    "***función dict()***\n",
    "\n",
    "Y declarar diccionario utilizando diccionarios por comprensión"
   ]
  },
  {
   "cell_type": "markdown",
   "metadata": {},
   "source": [
    "**Diccionario de clave entera y valor entero**"
   ]
  },
  {
   "cell_type": "code",
   "execution_count": 5,
   "metadata": {},
   "outputs": [
    {
     "name": "stdout",
     "output_type": "stream",
     "text": [
      "Diccionario de clave entera y valor entero\n",
      "{1: 10, 2: 20, 3: 30}\n",
      "<class 'dict'>\n"
     ]
    }
   ],
   "source": [
    "print (\"Diccionario de clave entera y valor entero\")\n",
    "diccionario = {1: 10, 2: 20, 3: 30}\n",
    "print(diccionario)\n",
    "print(type(diccionario))"
   ]
  },
  {
   "cell_type": "markdown",
   "metadata": {},
   "source": [
    "**Diccionario de clave entero y valor cadena**"
   ]
  },
  {
   "cell_type": "code",
   "execution_count": 6,
   "metadata": {},
   "outputs": [
    {
     "name": "stdout",
     "output_type": "stream",
     "text": [
      "Diccionario de clave entero y valor cadena\n",
      "{1: 'uno', 2: 'dos', 3: 'tres'}\n",
      "<class 'dict'>\n"
     ]
    }
   ],
   "source": [
    "print (\"Diccionario de clave entero y valor cadena\")\n",
    "diccionario = {1: 'uno', 2: 'dos', 3: 'tres'}\n",
    "print(diccionario)\n",
    "print(type(diccionario))"
   ]
  },
  {
   "cell_type": "markdown",
   "metadata": {},
   "source": [
    "**Diccionario de clave cadena y valor entero**"
   ]
  },
  {
   "cell_type": "code",
   "execution_count": 7,
   "metadata": {},
   "outputs": [
    {
     "name": "stdout",
     "output_type": "stream",
     "text": [
      "Diccionario de clave cadena y valor entero\n",
      "{'uno': 1, 'dos': 2, 'tres': 3}\n",
      "<class 'dict'>\n"
     ]
    }
   ],
   "source": [
    "print (\"Diccionario de clave cadena y valor entero\")\n",
    "diccionario = {'uno': 1, 'dos': 2, 'tres': 3}\n",
    "print(diccionario)\n",
    "print(type(diccionario))"
   ]
  },
  {
   "cell_type": "markdown",
   "metadata": {},
   "source": [
    "**Diccionario de clave cadena y valor cadena**"
   ]
  },
  {
   "cell_type": "code",
   "execution_count": 8,
   "metadata": {},
   "outputs": [
    {
     "name": "stdout",
     "output_type": "stream",
     "text": [
      "Diccionario de clave cadena y valor cadena\n",
      "{'perro': '🐶', 'gato': '🐱', 'ave': '🐦'}\n",
      "<class 'dict'>\n"
     ]
    }
   ],
   "source": [
    "print (\"Diccionario de clave cadena y valor cadena\")\n",
    "diccionario = {'perro': '🐶', 'gato': '🐱', 'ave': '🐦'}\n",
    "print(diccionario)\n",
    "print(type(diccionario))"
   ]
  },
  {
   "cell_type": "markdown",
   "metadata": {},
   "source": [
    "**Diccionario mixto**"
   ]
  },
  {
   "cell_type": "code",
   "execution_count": 9,
   "metadata": {},
   "outputs": [
    {
     "name": "stdout",
     "output_type": "stream",
     "text": [
      "Diccionario mixto\n",
      "{1: 'ID-XXXXX', 'edad': 3, 'animal': '🐶', ('John', 'Doe'): 6917222722, 'salvaje': False}\n",
      "<class 'dict'>\n"
     ]
    }
   ],
   "source": [
    "print (\"Diccionario mixto\")\n",
    "diccionario = {1:\"ID-XXXXX\", \"edad\": 3, 'animal': '🐶' , (\"John\",\"Doe\"): 6917222722, \"salvaje\": False}\n",
    "print(diccionario)\n",
    "print(type(diccionario))"
   ]
  },
  {
   "cell_type": "markdown",
   "metadata": {},
   "source": [
    "Se utiliza la función dict() para crear diccionarios vacíos o a partir de secuencias\n",
    "\n",
    "Permite convertir secuencias como listas, tuplas, conjuntos en diccionarios las secuencias deben tener pares clave-valor\n",
    "\n",
    "Diccionario vacío, se declara con llaves {} o con la \n",
    "\n",
    "***función dict()**\n",
    "\n",
    "Es la razón por la que no se usa {} para crear un conjunto vacío\n",
    "\n",
    "Los diccionarios nacieron antes que los conjuntos\n",
    "\n",
    "Para mantener la consistencia y claridad y coherencia\n",
    "\n",
    "Se mantuvo la sintaxis de los diccionarios vacíos con \n",
    "\n",
    "***{}***"
   ]
  },
  {
   "cell_type": "code",
   "execution_count": 10,
   "metadata": {},
   "outputs": [
    {
     "name": "stdout",
     "output_type": "stream",
     "text": [
      "Diccionario vacío\n",
      "{}\n",
      "<class 'dict'>\n",
      "{}\n",
      "<class 'dict'>\n"
     ]
    }
   ],
   "source": [
    "print (\"Diccionario vacío\")\n",
    "diccionario = {}\n",
    "print(diccionario)\n",
    "print(type(diccionario))\n",
    "diccionario = dict()\n",
    "print(diccionario)\n",
    "print(type(diccionario))"
   ]
  },
  {
   "cell_type": "markdown",
   "metadata": {},
   "source": [
    "**Diccionario a partir de una lista anidada**\n",
    "\n",
    "Necesita que la lista tenga elementos pares"
   ]
  },
  {
   "cell_type": "code",
   "execution_count": 11,
   "metadata": {},
   "outputs": [
    {
     "name": "stdout",
     "output_type": "stream",
     "text": [
      "Diccionario a partir de una lista\n",
      "[['perro', '🐶'], ['gato', '🐱'], ['ave', '🐦']]\n",
      "{'perro': '🐶', 'gato': '🐱', 'ave': '🐦'}\n",
      "<class 'dict'>\n"
     ]
    }
   ],
   "source": [
    "print (\"Diccionario a partir de una lista\")\n",
    "lista = [['perro', '🐶'] , ['gato','🐱'] , ['ave','🐦']]\n",
    "print(lista)\n",
    "diccionario = dict(lista)\n",
    "print(diccionario)\n",
    "print(type(diccionario))"
   ]
  },
  {
   "cell_type": "markdown",
   "metadata": {},
   "source": [
    "**Diccionario a partir de una tupla**\n",
    "\n",
    "Necesita que la tupla tenga elementos pares"
   ]
  },
  {
   "cell_type": "code",
   "execution_count": 12,
   "metadata": {},
   "outputs": [
    {
     "name": "stdout",
     "output_type": "stream",
     "text": [
      "Diccionario a partir de una tupla de tuplas\n",
      "(('perro', '🐶'), ('gatos', '🐱'), ('ave', ['🐦', '🦅']))\n",
      "{'perro': '🐶', 'gatos': '🐱', 'ave': ['🐦', '🦅']}\n",
      "<class 'dict'>\n"
     ]
    }
   ],
   "source": [
    "print (\"Diccionario a partir de una tupla de tuplas\")\n",
    "tupla = (('perro', '🐶') , ('gatos','🐱') , ('ave',['🐦','🦅']))\n",
    "print(tupla)\n",
    "diccionario = dict(tupla)\n",
    "print(diccionario)\n",
    "print(type(diccionario))"
   ]
  },
  {
   "cell_type": "markdown",
   "metadata": {},
   "source": [
    "**Diccionario mediante comprensión**"
   ]
  },
  {
   "cell_type": "code",
   "execution_count": 13,
   "metadata": {},
   "outputs": [
    {
     "name": "stdout",
     "output_type": "stream",
     "text": [
      "Diccionario mediante comprensión\n",
      "{'🐶': '🐶🐶🐶', '🐱': '🐱🐱🐱', '🐹': '🐹🐹🐹', '🐰': '🐰🐰🐰'}\n",
      "<class 'dict'>\n"
     ]
    }
   ],
   "source": [
    "print (\"Diccionario mediante comprensión\")\n",
    "diccionario = {animal:animal*3 for animal in '🐶🐱🐹🐰'}\n",
    "print(diccionario)\n",
    "print(type(diccionario))"
   ]
  },
  {
   "cell_type": "markdown",
   "metadata": {},
   "source": [
    "## INDEXACIÓN Y SLICING\n",
    "\n",
    "Los diccionarios poseen indexación por clave\n",
    "\n",
    "No se puede acceder a los elementos de un diccionario por posición\n",
    "\n",
    "Si se puede acceder a los elementos de un diccionario por clave\n",
    "\n",
    "No se puede realizar slicing en un diccionario\n",
    "\n",
    "Accedemos a los elementos de un diccionario por clave"
   ]
  },
  {
   "cell_type": "code",
   "execution_count": 14,
   "metadata": {},
   "outputs": [
    {
     "name": "stdout",
     "output_type": "stream",
     "text": [
      "Acceder mediante clave\n",
      "{'perro': '🐶', 'gato': '🐱', 'ave': '🐦'}\n",
      "🐶 <class 'str'>\n",
      "🐱 <class 'str'>\n",
      "🐦 <class 'str'>\n"
     ]
    }
   ],
   "source": [
    "print (\"Acceder mediante clave\")\n",
    "diccionario = {'perro': '🐶', 'gato': '🐱', 'ave': '🐦'}\n",
    "print(diccionario)\n",
    "print(diccionario['perro'],type(diccionario['perro']))\n",
    "print(diccionario['gato'],type(diccionario['gato']))\n",
    "print(diccionario['ave'],type(diccionario['ave']))"
   ]
  },
  {
   "cell_type": "markdown",
   "metadata": {},
   "source": [
    "El acceso no solo nos permite obtener el valor de la clave\n",
    "\n",
    "Sino que también nos permite modificar el valor de la clave"
   ]
  },
  {
   "cell_type": "markdown",
   "metadata": {},
   "source": [
    "***Cambiar el valor de un clave***"
   ]
  },
  {
   "cell_type": "code",
   "execution_count": 15,
   "metadata": {},
   "outputs": [
    {
     "name": "stdout",
     "output_type": "stream",
     "text": [
      "Cambiar el valor de una clave\n",
      "{'perro': '🐶', 'gato': '🐱', 'ave': '🐦'}\n",
      "{'perro': '🐩', 'gato': '🐱', 'ave': '🐦'}\n"
     ]
    }
   ],
   "source": [
    "print (\"Cambiar el valor de una clave\")\n",
    "diccionario = {'perro': '🐶', 'gato': '🐱', 'ave': '🐦'}\n",
    "print(diccionario)\n",
    "diccionario['perro'] = '🐩'\n",
    "print(diccionario)"
   ]
  },
  {
   "cell_type": "markdown",
   "metadata": {},
   "source": [
    "***Si la clave no existe, se crea un nuevo par clave-valor***"
   ]
  },
  {
   "cell_type": "code",
   "execution_count": 16,
   "metadata": {},
   "outputs": [
    {
     "name": "stdout",
     "output_type": "stream",
     "text": [
      "Crear un nuevo par clave-valor\n",
      "{'perro': '🐶', 'gato': '🐱', 'ave': '🐦'}\n",
      "{'perro': '🐶', 'gato': '🐱', 'ave': '🐦', 'pez': '🐠'}\n"
     ]
    }
   ],
   "source": [
    "print (\"Crear un nuevo par clave-valor\")\n",
    "diccionario = {'perro': '🐶', 'gato': '🐱', 'ave': '🐦'}\n",
    "print(diccionario)\n",
    "diccionario['pez'] = '🐠'\n",
    "print(diccionario)"
   ]
  },
  {
   "cell_type": "markdown",
   "metadata": {},
   "source": [
    "***Para eliminar un par clave-valor se utiliza la palabra reservada \"del\"***"
   ]
  },
  {
   "cell_type": "code",
   "execution_count": 17,
   "metadata": {},
   "outputs": [
    {
     "name": "stdout",
     "output_type": "stream",
     "text": [
      "Eliminar un par clave-valor\n",
      "{'perro': '🐶', 'gato': '🐱', 'ave': '🐦'}\n",
      "{'perro': '🐶', 'gato': '🐱'}\n"
     ]
    }
   ],
   "source": [
    "print (\"Eliminar un par clave-valor\")\n",
    "diccionario = {'perro': '🐶', 'gato': '🐱', 'ave': '🐦'}\n",
    "print(diccionario)\n",
    "del diccionario['ave']\n",
    "print(diccionario)"
   ]
  },
  {
   "cell_type": "markdown",
   "metadata": {},
   "source": [
    "No se puede modificar la clave son inmutables y únicas\n",
    "\n",
    "Se puede reasignar la clave creando un nuevo par clave-valor y eliminando el anterior"
   ]
  },
  {
   "cell_type": "code",
   "execution_count": 18,
   "metadata": {},
   "outputs": [
    {
     "name": "stdout",
     "output_type": "stream",
     "text": [
      "Modificar la clave\n",
      "{'perro': '🐶', 'gato': '🐱', 'ave': '🐦'}\n",
      "{'gato': '🐱', 'ave': '🐦', 'perrito': '🐶'}\n"
     ]
    }
   ],
   "source": [
    "print (\"Modificar la clave\")\n",
    "diccionario = {'perro': '🐶', 'gato': '🐱', 'ave': '🐦'}\n",
    "print(diccionario)\n",
    "diccionario['perrito'] = diccionario['perro']\n",
    "del diccionario['perro']\n",
    "print(diccionario)"
   ]
  },
  {
   "cell_type": "markdown",
   "metadata": {},
   "source": [
    "## CONCATENACIÓN DE DICCIONARIOS\n",
    "\n",
    "No se puede concatenar diccionarios con el operador +"
   ]
  },
  {
   "cell_type": "code",
   "execution_count": 19,
   "metadata": {},
   "outputs": [
    {
     "name": "stdout",
     "output_type": "stream",
     "text": [
      "Concatenar diccionarios\n"
     ]
    },
    {
     "ename": "TypeError",
     "evalue": "unsupported operand type(s) for +: 'dict' and 'dict'",
     "output_type": "error",
     "traceback": [
      "\u001b[1;31m---------------------------------------------------------------------------\u001b[0m",
      "\u001b[1;31mTypeError\u001b[0m                                 Traceback (most recent call last)",
      "Cell \u001b[1;32mIn[19], line 4\u001b[0m\n\u001b[0;32m      2\u001b[0m diccionario1 \u001b[38;5;241m=\u001b[39m {\u001b[38;5;124m'\u001b[39m\u001b[38;5;124mperro\u001b[39m\u001b[38;5;124m'\u001b[39m: \u001b[38;5;124m'\u001b[39m\u001b[38;5;124m🐶\u001b[39m\u001b[38;5;124m'\u001b[39m, \u001b[38;5;124m'\u001b[39m\u001b[38;5;124mgato\u001b[39m\u001b[38;5;124m'\u001b[39m: \u001b[38;5;124m'\u001b[39m\u001b[38;5;124m🐱\u001b[39m\u001b[38;5;124m'\u001b[39m}\n\u001b[0;32m      3\u001b[0m diccionario2 \u001b[38;5;241m=\u001b[39m {\u001b[38;5;124m'\u001b[39m\u001b[38;5;124mave\u001b[39m\u001b[38;5;124m'\u001b[39m: \u001b[38;5;124m'\u001b[39m\u001b[38;5;124m🐦\u001b[39m\u001b[38;5;124m'\u001b[39m, \u001b[38;5;124m'\u001b[39m\u001b[38;5;124mpez\u001b[39m\u001b[38;5;124m'\u001b[39m: \u001b[38;5;124m'\u001b[39m\u001b[38;5;124m🐠\u001b[39m\u001b[38;5;124m'\u001b[39m}\n\u001b[1;32m----> 4\u001b[0m concatenado \u001b[38;5;241m=\u001b[39m \u001b[43mdiccionario1\u001b[49m\u001b[43m \u001b[49m\u001b[38;5;241;43m+\u001b[39;49m\u001b[43m \u001b[49m\u001b[43mdiccionario2\u001b[49m \u001b[38;5;66;03m# TypeError: unsupported operand type(s) for +: 'dict' and 'dict'\u001b[39;00m\n",
      "\u001b[1;31mTypeError\u001b[0m: unsupported operand type(s) for +: 'dict' and 'dict'"
     ]
    }
   ],
   "source": [
    "print (\"Concatenar diccionarios\")\n",
    "diccionario1 = {'perro': '🐶', 'gato': '🐱'}\n",
    "diccionario2 = {'ave': '🐦', 'pez': '🐠'}\n",
    "concatenado = diccionario1 + diccionario2 # TypeError: unsupported operand type(s) for +: 'dict' and 'dict'"
   ]
  },
  {
   "cell_type": "markdown",
   "metadata": {},
   "source": [
    "## REPETICIÓN DE DICCIONARIOS\n",
    "\n",
    "No se puede repetir diccionarios con el operador *+*"
   ]
  },
  {
   "cell_type": "code",
   "execution_count": 20,
   "metadata": {},
   "outputs": [
    {
     "name": "stdout",
     "output_type": "stream",
     "text": [
      "Repetir diccionarios\n"
     ]
    },
    {
     "ename": "TypeError",
     "evalue": "unsupported operand type(s) for *: 'dict' and 'int'",
     "output_type": "error",
     "traceback": [
      "\u001b[1;31m---------------------------------------------------------------------------\u001b[0m",
      "\u001b[1;31mTypeError\u001b[0m                                 Traceback (most recent call last)",
      "Cell \u001b[1;32mIn[20], line 3\u001b[0m\n\u001b[0;32m      1\u001b[0m \u001b[38;5;28mprint\u001b[39m (\u001b[38;5;124m\"\u001b[39m\u001b[38;5;124mRepetir diccionarios\u001b[39m\u001b[38;5;124m\"\u001b[39m)\n\u001b[0;32m      2\u001b[0m diccionario \u001b[38;5;241m=\u001b[39m {\u001b[38;5;124m'\u001b[39m\u001b[38;5;124mperro\u001b[39m\u001b[38;5;124m'\u001b[39m: \u001b[38;5;124m'\u001b[39m\u001b[38;5;124m🐶\u001b[39m\u001b[38;5;124m'\u001b[39m, \u001b[38;5;124m'\u001b[39m\u001b[38;5;124mgato\u001b[39m\u001b[38;5;124m'\u001b[39m: \u001b[38;5;124m'\u001b[39m\u001b[38;5;124m🐱\u001b[39m\u001b[38;5;124m'\u001b[39m}\n\u001b[1;32m----> 3\u001b[0m repetido \u001b[38;5;241m=\u001b[39m \u001b[43mdiccionario\u001b[49m\u001b[43m \u001b[49m\u001b[38;5;241;43m*\u001b[39;49m\u001b[43m \u001b[49m\u001b[38;5;241;43m3\u001b[39;49m \u001b[38;5;66;03m# TypeError: unsupported operand type(s) for *: 'dict' and 'int'\u001b[39;00m\n",
      "\u001b[1;31mTypeError\u001b[0m: unsupported operand type(s) for *: 'dict' and 'int'"
     ]
    }
   ],
   "source": [
    "print (\"Repetir diccionarios\")\n",
    "diccionario = {'perro': '🐶', 'gato': '🐱'}\n",
    "repetido = diccionario * 3 # TypeError: unsupported operand type(s) for *: 'dict' and 'int'"
   ]
  },
  {
   "cell_type": "markdown",
   "metadata": {},
   "source": [
    "## MÉTODOS DE LOS DICCIONARIOS\n",
    "\n",
    "Los diccionarios poseen los siguientes métodos:\n",
    "\n",
    "- Métodos de acceso\n",
    "- Métodos de adición\n",
    "- Métodos de eliminación\n",
    "- Métodos de copia"
   ]
  },
  {
   "cell_type": "markdown",
   "metadata": {},
   "source": [
    "## MÉTODOS DE ACCESO\n",
    "\n",
    "Nos permiten obtener información del diccionario\n",
    "\n",
    "- get()\n",
    "- items()\n",
    "- keys()\n",
    "- values()"
   ]
  },
  {
   "cell_type": "markdown",
   "metadata": {},
   "source": [
    "***get(clave):*** Recibe una clave y retorna el valor del par clave-valor, si la clave no existe retorna None"
   ]
  },
  {
   "cell_type": "code",
   "execution_count": 21,
   "metadata": {},
   "outputs": [
    {
     "name": "stdout",
     "output_type": "stream",
     "text": [
      "Método get(clave)\n",
      "{'perro': '🐶', 'gato': '🐱', 'ave': '🐦'}\n",
      "🐶 <class 'str'>\n",
      "None <class 'NoneType'>\n"
     ]
    }
   ],
   "source": [
    "print (\"Método get(clave)\")\n",
    "diccionario = {'perro': '🐶', 'gato': '🐱', 'ave': '🐦'}\n",
    "print (diccionario)\n",
    "perro = diccionario.get('perro')\n",
    "print(perro, type(perro))\n",
    "pez = diccionario.get('pez')\n",
    "print(pez, type(pez))"
   ]
  },
  {
   "cell_type": "markdown",
   "metadata": {},
   "source": [
    "***items():*** Retorna una lista de tuplas con los pares clave-valor, se puede iterar para obtener los pares clave-valor"
   ]
  },
  {
   "cell_type": "code",
   "execution_count": 22,
   "metadata": {},
   "outputs": [
    {
     "name": "stdout",
     "output_type": "stream",
     "text": [
      "Método items()\n",
      "{'perro': '🐶', 'gato': '🐱', 'ave': '🐦'}\n",
      "dict_items([('perro', '🐶'), ('gato', '🐱'), ('ave', '🐦')]) <class 'dict_items'>\n",
      "[('perro', '🐶'), ('gato', '🐱'), ('ave', '🐦')] <class 'list'>\n",
      "('perro', '🐶') <class 'tuple'>\n"
     ]
    }
   ],
   "source": [
    "print (\"Método items()\")\n",
    "diccionario = {'perro': '🐶', 'gato': '🐱', 'ave': '🐦'}\n",
    "print(diccionario)\n",
    "items = diccionario.items()\n",
    "print(items, type(items))\n",
    "items = list(items) # Convertir a lista\n",
    "print(items, type(items))\n",
    "print(items[0], type(items[0]))"
   ]
  },
  {
   "cell_type": "markdown",
   "metadata": {},
   "source": [
    "***keys():*** Retorna una lista con las claves del diccionario, se puede iterar para obtener las claves"
   ]
  },
  {
   "cell_type": "code",
   "execution_count": 23,
   "metadata": {},
   "outputs": [
    {
     "name": "stdout",
     "output_type": "stream",
     "text": [
      "Método keys()\n",
      "{'perro': '🐶', 'gato': '🐱', 'ave': '🐦'}\n",
      "dict_keys(['perro', 'gato', 'ave']) <class 'dict_keys'>\n",
      "['perro', 'gato', 'ave'] <class 'list'>\n",
      "perro <class 'str'>\n"
     ]
    }
   ],
   "source": [
    "print (\"Método keys()\")\n",
    "diccionario = {'perro': '🐶', 'gato': '🐱', 'ave': '🐦'}\n",
    "print(diccionario)\n",
    "keys = diccionario.keys()\n",
    "print(keys, type(keys))\n",
    "keys = list(keys) # Convertir a lista\n",
    "print(keys, type(keys))\n",
    "print(keys[0], type(keys[0]))"
   ]
  },
  {
   "cell_type": "markdown",
   "metadata": {},
   "source": [
    "***values():*** Retorna una lista con los valores del diccionario, se puede iterar para obtener los valores"
   ]
  },
  {
   "cell_type": "code",
   "execution_count": 24,
   "metadata": {},
   "outputs": [
    {
     "name": "stdout",
     "output_type": "stream",
     "text": [
      "Método values()\n",
      "{'perro': '🐶', 'gato': '🐱', 'ave': '🐦'}\n",
      "dict_values(['🐶', '🐱', '🐦']) <class 'dict_values'>\n",
      "['🐶', '🐱', '🐦'] <class 'list'>\n",
      "🐶 <class 'str'>\n"
     ]
    }
   ],
   "source": [
    "print (\"Método values()\")\n",
    "diccionario = {'perro': '🐶', 'gato': '🐱', 'ave': '🐦'}\n",
    "print(diccionario)\n",
    "values = diccionario.values()\n",
    "print(values, type(values))\n",
    "values = list(values) # Convertir a lista\n",
    "print(values, type(values))\n",
    "print(values[0], type(values[0]))"
   ]
  },
  {
   "cell_type": "markdown",
   "metadata": {},
   "source": [
    "## MÉTODOS DE ADICIÓN\n",
    "\n",
    "Nos permiten agregar elementos al diccionario\n",
    "\n",
    "- update()"
   ]
  },
  {
   "cell_type": "markdown",
   "metadata": {},
   "source": [
    "***update(diccionario):*** Recibe un diccionario y agrega los pares clave-valor al diccionario, si la clave ya existe reescribe el valor"
   ]
  },
  {
   "cell_type": "code",
   "execution_count": 25,
   "metadata": {},
   "outputs": [
    {
     "name": "stdout",
     "output_type": "stream",
     "text": [
      "Método update(diccionario)\n",
      "{'perro': '🐶', 'gato': '🐱', 'ave': '🐦'}\n",
      "{'perro': '🐩', 'gato': '🐱', 'ave': '🐦', 'pez': '🐠'}\n"
     ]
    }
   ],
   "source": [
    "print (\"Método update(diccionario)\")\n",
    "diccionario = {'perro': '🐶', 'gato': '🐱', 'ave': '🐦'}\n",
    "print(diccionario)\n",
    "diccionario.update({'pez': '🐠', 'perro': '🐩'})\n",
    "print(diccionario)"
   ]
  },
  {
   "cell_type": "markdown",
   "metadata": {},
   "source": [
    "***update(clave=valor):*** Recibe claves y valores, agrega el par clave-valor al diccionario, si la clave ya existe reescribe el valor"
   ]
  },
  {
   "cell_type": "code",
   "execution_count": 26,
   "metadata": {},
   "outputs": [
    {
     "name": "stdout",
     "output_type": "stream",
     "text": [
      "Método update(clave=valor)\n",
      "{'perro': '🐶', 'gato': '🐱', 'ave': '🐦'}\n",
      "{'perro': '🐩', 'gato': '🐱', 'ave': '🐦', 'pez': '🐠'}\n"
     ]
    }
   ],
   "source": [
    "print (\"Método update(clave=valor)\")\n",
    "diccionario = {'perro': '🐶', 'gato': '🐱', 'ave': '🐦'}\n",
    "print(diccionario)\n",
    "diccionario.update(pez='🐠', perro='🐩')\n",
    "print(diccionario)"
   ]
  },
  {
   "cell_type": "markdown",
   "metadata": {},
   "source": [
    "## MÉTODOS DE ELIMINACIÓN\n",
    "\n",
    "Permiten eliminar elementos del diccionario\n",
    "\n",
    "- clear()\n",
    "- pop()\n",
    "- popitem()"
   ]
  },
  {
   "cell_type": "code",
   "execution_count": 27,
   "metadata": {},
   "outputs": [
    {
     "name": "stdout",
     "output_type": "stream",
     "text": [
      "Método clear()\n",
      "{'perro': '🐶', 'gato': '🐱', 'ave': '🐦'}\n",
      "{}\n"
     ]
    }
   ],
   "source": [
    "print (\"Método clear()\")\n",
    "diccionario = {'perro': '🐶', 'gato': '🐱', 'ave': '🐦'}\n",
    "print(diccionario)\n",
    "diccionario.clear()\n",
    "print(diccionario)"
   ]
  },
  {
   "cell_type": "markdown",
   "metadata": {},
   "source": [
    "***pop(clave):*** Recibe una clave y elimina el par clave-valor del diccionario, retorna el valor de la clave"
   ]
  },
  {
   "cell_type": "code",
   "execution_count": 28,
   "metadata": {},
   "outputs": [
    {
     "name": "stdout",
     "output_type": "stream",
     "text": [
      "Método pop(clave)\n",
      "{'perro': '🐶', 'gato': '🐱', 'ave': '🐦'}\n",
      "🐱 <class 'str'>\n",
      "{'perro': '🐶', 'ave': '🐦'}\n"
     ]
    }
   ],
   "source": [
    "print (\"Método pop(clave)\")\n",
    "diccionario = {'perro': '🐶', 'gato': '🐱', 'ave': '🐦'}\n",
    "print(diccionario)\n",
    "gato = diccionario.pop('gato')\n",
    "print(gato, type(gato))\n",
    "print(diccionario)"
   ]
  },
  {
   "cell_type": "markdown",
   "metadata": {},
   "source": [
    "***popitem():*** Elimina el último par clave-valor del diccionario, retorna el par clave-valor, si el diccionario está vacío retorna un error"
   ]
  },
  {
   "cell_type": "code",
   "execution_count": 29,
   "metadata": {},
   "outputs": [
    {
     "name": "stdout",
     "output_type": "stream",
     "text": [
      "Método popitem()\n",
      "{'perro': '🐶', 'gato': '🐱'}\n",
      "('gato', '🐱') <class 'tuple'>\n",
      "{'perro': '🐶'}\n"
     ]
    }
   ],
   "source": [
    "print (\"Método popitem()\")\n",
    "diccionario = {'perro': '🐶', 'gato': '🐱'}\n",
    "print(diccionario)\n",
    "par = diccionario.popitem()\n",
    "print(par, type(par))\n",
    "print(diccionario)\n",
    "# par = diccionario.popitem()\n",
    "# print(par, type(par)) # KeyError: 'popitem(): dictionary is empty'"
   ]
  },
  {
   "cell_type": "markdown",
   "metadata": {},
   "source": [
    "## MÉTODOS DE COPIA\n",
    "\n",
    "Permiten copiar el diccionario con una nueva referencia de memoria\n",
    "\n",
    "- copy()"
   ]
  },
  {
   "cell_type": "markdown",
   "metadata": {},
   "source": [
    "Cuando se asigna un diccionario a una nueva variable se asigna por referencia\n",
    "\n",
    "NO se crea un dict nuevo sino una referencia al original"
   ]
  },
  {
   "cell_type": "code",
   "execution_count": 30,
   "metadata": {},
   "outputs": [
    {
     "name": "stdout",
     "output_type": "stream",
     "text": [
      "Asignación por referencia\n",
      "{'perro': '🐶', 'gato': '🐱', 'ave': '🐦'}\n",
      "{'perro': '🐶', 'gato': '🐱', 'ave': '🐦'}\n",
      "{'perro': '🐶', 'gato': '🐱', 'ave': '🦅'}\n",
      "{'perro': '🐶', 'gato': '🐱', 'ave': '🦅'}\n"
     ]
    }
   ],
   "source": [
    "print (\"Asignación por referencia\")\n",
    "diccionario = {'perro': '🐶', 'gato': '🐱', 'ave': '🐦'}\n",
    "print(diccionario)\n",
    "copia = diccionario\n",
    "print(copia)\n",
    "copia['ave'] = '🦅'\n",
    "print(diccionario)\n",
    "print(copia)"
   ]
  },
  {
   "cell_type": "markdown",
   "metadata": {},
   "source": [
    "Para crear una copia del diccionario se utiliza el método copy()"
   ]
  },
  {
   "cell_type": "code",
   "execution_count": 31,
   "metadata": {},
   "outputs": [
    {
     "name": "stdout",
     "output_type": "stream",
     "text": [
      "Método copy()\n",
      "{'perro': '🐶', 'gato': '🐱', 'ave': '🐦'}\n",
      "{'perro': '🐶', 'gato': '🐱', 'ave': '🐦'}\n",
      "{'perro': '🐶', 'gato': '🐱', 'ave': '🐦'}\n",
      "{'perro': '🐶', 'gato': '🐱', 'ave': '🦅'}\n"
     ]
    }
   ],
   "source": [
    "print (\"Método copy()\")\n",
    "diccionario = {'perro': '🐶', 'gato': '🐱', 'ave': '🐦'}\n",
    "print(diccionario)\n",
    "copia = diccionario.copy()\n",
    "print(copia)\n",
    "copia['ave'] = '🦅'\n",
    "print(diccionario)\n",
    "print(copia)"
   ]
  },
  {
   "cell_type": "markdown",
   "metadata": {},
   "source": [
    "## FUNCIONES CON DICCIONARIOS\n",
    "\n",
    "Los diccionarios interactúan con funciones propias de python\n",
    "\n",
    "- len()\n",
    "- in / not in\n",
    "- iter()\n",
    "\n",
    "Existen otras funciones pueden encontrarse en la documentación"
   ]
  },
  {
   "cell_type": "markdown",
   "metadata": {},
   "source": [
    "***len(diccionario):*** Retorna la cantidad de pares clave-valor del diccionario"
   ]
  },
  {
   "cell_type": "code",
   "execution_count": 32,
   "metadata": {},
   "outputs": [
    {
     "name": "stdout",
     "output_type": "stream",
     "text": [
      "Función len()\n",
      "{'perro': '🐶', 'gato': '🐱', 'ave': '🐦'}\n",
      "3\n"
     ]
    }
   ],
   "source": [
    "print (\"Función len()\")\n",
    "diccionario = {'perro': '🐶', 'gato': '🐱', 'ave': '🐦'}\n",
    "print(diccionario)\n",
    "longitud = len(diccionario)\n",
    "print(longitud)"
   ]
  },
  {
   "cell_type": "markdown",
   "metadata": {},
   "source": [
    "***in / not in:*** Verifica si una clave existe en el diccionario"
   ]
  },
  {
   "cell_type": "code",
   "execution_count": 33,
   "metadata": {},
   "outputs": [
    {
     "name": "stdout",
     "output_type": "stream",
     "text": [
      "Función in  / not in\n",
      "{'perro': '🐶', 'gato': '🐱', 'ave': '🐦'}\n",
      "True <class 'bool'>\n",
      "True <class 'bool'>\n"
     ]
    }
   ],
   "source": [
    "print (\"Función in  / not in\")\n",
    "diccionario = {'perro': '🐶', 'gato': '🐱', 'ave': '🐦'}\n",
    "print(diccionario)\n",
    "existe = 'perro' in diccionario\n",
    "print(existe, type(existe))\n",
    "no_existe = 'pez' not in diccionario\n",
    "print(no_existe, type(no_existe))"
   ]
  },
  {
   "cell_type": "markdown",
   "metadata": {},
   "source": [
    "***iter(diccionario.items):*** Recibe items del diccionario y retorna un iterador"
   ]
  },
  {
   "cell_type": "code",
   "execution_count": 34,
   "metadata": {},
   "outputs": [
    {
     "name": "stdout",
     "output_type": "stream",
     "text": [
      "Función iter()\n",
      "{'perro': '🐶', 'gato': '🐱', 'ave': '🐦'}\n",
      "<class 'dict_itemiterator'>\n",
      "('perro', '🐶') <class 'tuple'>\n",
      "('gato', '🐱') <class 'tuple'>\n",
      "('ave', '🐦') <class 'tuple'>\n"
     ]
    }
   ],
   "source": [
    "print (\"Función iter()\")\n",
    "diccionario = {'perro': '🐶', 'gato': '🐱', 'ave': '🐦'}\n",
    "print(diccionario)\n",
    "iterador = iter(diccionario.items())\n",
    "print(type(iterador))\n",
    "siguiente = next(iterador)\n",
    "print(siguiente, type(siguiente))\n",
    "siguiente = next(iterador)\n",
    "print(siguiente, type(siguiente))\n",
    "siguiente = next(iterador)\n",
    "print(siguiente, type(siguiente))"
   ]
  },
  {
   "cell_type": "markdown",
   "metadata": {},
   "source": [
    "## DICCIONARIOS ANIDADOS\n",
    "\n",
    "Los diccionarios pueden contener otros diccionarios"
   ]
  },
  {
   "cell_type": "code",
   "execution_count": 35,
   "metadata": {},
   "outputs": [
    {
     "name": "stdout",
     "output_type": "stream",
     "text": [
      "Diccionarios anidados\n",
      "{'perro': '🐶', 'gato': '🐱', 'ave': {'pajaro': '🐦', 'aguila': '🦅'}}\n",
      "{'pajaro': '🐦', 'aguila': '🦅'}\n",
      "🐦\n",
      "🦅\n"
     ]
    }
   ],
   "source": [
    "print (\"Diccionarios anidados\")\n",
    "diccionario = {'perro': '🐶', 'gato': '🐱',  'ave': {'pajaro': '🐦', 'aguila': '🦅'}}\n",
    "print(diccionario)\n",
    "aves = diccionario['ave']\n",
    "print(aves)\n",
    "ave = aves['pajaro']\n",
    "print(ave)\n",
    "ave = aves['aguila']\n",
    "print(ave)"
   ]
  },
  {
   "cell_type": "markdown",
   "metadata": {},
   "source": [
    "# ....Por enlace de imagen - video (youtube)....\n",
    "### cap 4\n",
    "[![Mac vs windows cap1](mc_vs_win.jpg)](https://www.youtube.com/watch?v=Ph4Xf6ucjqM)\n",
    "\n",
    "### cap 5\n",
    "[![Mac vs windows cap2](mc_vs_win2.jpg)](https://www.youtube.com/watch?v=PY_6p7SM1Jc)"
   ]
  }
 ],
 "metadata": {
  "kernelspec": {
   "display_name": "Python 3",
   "language": "python",
   "name": "python3"
  },
  "language_info": {
   "codemirror_mode": {
    "name": "ipython",
    "version": 3
   },
   "file_extension": ".py",
   "mimetype": "text/x-python",
   "name": "python",
   "nbconvert_exporter": "python",
   "pygments_lexer": "ipython3",
   "version": "3.12.2"
  }
 },
 "nbformat": 4,
 "nbformat_minor": 2
}
